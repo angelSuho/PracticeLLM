{
 "cells": [
  {
   "cell_type": "code",
   "execution_count": 1,
   "metadata": {},
   "outputs": [
    {
     "name": "stdout",
     "output_type": "stream",
     "text": [
      "\u001b[33mWARNING: Running pip as the 'root' user can result in broken permissions and conflicting behaviour with the system package manager, possibly rendering your system unusable. It is recommended to use a virtual environment instead: https://pip.pypa.io/warnings/venv. Use the --root-user-action option if you know what you are doing and want to suppress this warning.\u001b[0m\u001b[33m\n",
      "\u001b[0mNote: you may need to restart the kernel to use updated packages.\n"
     ]
    }
   ],
   "source": [
    "%pip install -qU pypdf langchain-community langchain-text-splitters"
   ]
  },
  {
   "cell_type": "markdown",
   "metadata": {},
   "source": [
    "##### RAG(Retrieval-Augmented Generation)에서, 전체 문서를 그대로 LLM에 넘기면 토큰 제한을 초과할 가능성이 큽니다.\n",
    "- 토큰 제한을 초과하면 모델이 입력을 잘라내거나 오류가 발생할 수 있습니다.\n",
    "- 비록 초과하지 않는다 해도, 불필요하게 긴 문서는 응답 생성 시간과 비용을 늘립니다.\n",
    "\n",
    "##### 문서를 적절한 단위(“chunk” 혹은 “paragraph”)로 나누는 이유\n",
    "- 한 번에 모델에 넣을 수 있는 텍스트 분량(맥시멈 토큰 수)을 넘지 않도록 나누어 처리합니다.\n",
    "- 검색(Retrieval) 시 사용자 질문과 가장 관련성 높은 문단만 골라서 LLM에 전달하므로, 토큰 사용량을 줄이고 답변 품질을 높입니다.\n",
    "\n",
    "##### Retriever가 Paragraph(또는 Chunk) 단위로 검색\n",
    "- 문서를 일정 크기로 “청크”로 나눈 뒤, 각 청크를 벡터 스토어 등에 저장합니다(임베딩).\n",
    "- 질문이 들어오면 관련성이 높은 청크만 골라 LLM에 전달합니다.\n",
    "- 이것이 “문단 단위로 필요한 만큼만” 모델에 주는 핵심 아이디어입니다.\n",
    "\n",
    "##### 정리:\n",
    "- 설명에 언급된 대로, 전체 문서를 통째로 보내면 토큰 초과나 비효율 문제가 생긴다.\n",
    "- 이를 피하려고 문서를 적절히 나눈 뒤, 질문과 관련된 부분만 LLM에 주는 방식이 RAG에서 일반적으로 쓰이는 방법이다.\n",
    "- Retriever(검색 단계)에서는 이렇게 나눈 “문단(청크)” 단위를 기반으로 검색·필터링하여 필요한 부분만 추출한다."
   ]
  },
  {
   "cell_type": "code",
   "execution_count": 2,
   "metadata": {},
   "outputs": [],
   "source": [
    "from langchain_community.document_loaders import PyPDFLoader\n",
    "\n",
    "pdf_file_path = '../spring_framework_docs.pdf'\n",
    "loader = PyPDFLoader(pdf_file_path)\n",
    "pages = []\n",
    "# 쪽수별로 문서를 append\n",
    "async for page in loader.alazy_load():\n",
    "    pages.append(page)"
   ]
  },
  {
   "cell_type": "code",
   "execution_count": 3,
   "metadata": {},
   "outputs": [
    {
     "data": {
      "text/plain": [
       "[Document(metadata={'producer': 'Microsoft® Word 2016', 'creator': 'Microsoft® Word 2016', 'creationdate': '2025-02-09T14:49:24+09:00', 'author': '이수호', 'moddate': '2025-02-09T14:49:24+09:00', 'source': '../spring_framework_docs.pdf', 'total_pages': 6, 'page': 0, 'page_label': '1'}, page_content='스프링 프레임워크 종합 안내서 \\n스프링 프레임워크 종합 안내서 \\n본 문서는 스프링 프레임워크의 기본 개념, 아키텍처, 주요 기능 및 최신 동향을 \\n포함하여 총 10 페이지에 걸쳐 상세하게 설명합니다. \\n서론 \\n1. 개요 \\n스프링 프레임워크는 자바 플랫폼을 위한 오픈 소스 애플리케이션 프레임워크로, \\n엔터프라이즈급 애플리케이션 개발을 위한 다양한 기능과 유연한 아키텍처를 \\n제공합니다. \\n\\uf0b7 역사: 2002 년 로드 존슨(Rod Johnson)의 “Expert One-on-One J2EE \\nDesign and Development”를 시작으로 등장하였으며, 이후 경량 \\n컨테이너와 객체 지향 프로그래밍 기법을 도입하여 급속히 \\n확산되었습니다. \\n\\uf0b7 목적: 복잡한 엔터프라이즈 애플리케이션 개발 시 발생하는 결합도 문제를 \\n해소하고, 모듈화 및 재사용성을 높여 개발 생산성을 극대화하는 데 \\n있습니다. \\n2. 스프링의 필요성 \\n\\uf0b7 유연성: 전통적인 J2EE 기반의 복잡한 설정과 구현을 단순화합니다. \\n\\uf0b7 모듈성: IoC/DI, AOP 등 모듈화를 통해 유지보수를 쉽게 합니다. \\n\\uf0b7 확장성: 다양한 서브 모듈(웹, 데이터 접근, 보안 등)을 제공하여 복합적인 \\n요구 사항을 충족합니다. \\n참고: Soonggi Tistory \\n핵심 원칙 – IoC 와 DI \\n1. 제어의 역전(IoC, Inversion of Control) \\n\\uf0b7 개념: 객체의 생성과 의존관계 설정을 개발자가 아닌 스프링 컨테이너가 \\n관리하는 방식입니다. \\n\\uf0b7 장점: 결합도를 낮추어 코드의 재사용성과 테스트 용이성을 높입니다. \\n2. 의존성 주입(DI, Dependency Injection)'),\n",
       " Document(metadata={'producer': 'Microsoft® Word 2016', 'creator': 'Microsoft® Word 2016', 'creationdate': '2025-02-09T14:49:24+09:00', 'author': '이수호', 'moddate': '2025-02-09T14:49:24+09:00', 'source': '../spring_framework_docs.pdf', 'total_pages': 6, 'page': 1, 'page_label': '2'}, page_content='\\uf0b7 정의: 객체가 필요한 의존성을 스프링 컨테이너가 주입해 주는 \\n방식입니다. \\n\\uf0b7 구현 방식: XML 설정, 애노테이션(@Autowired), 자바 기반 \\n설정(@Configuration)을 통한 DI 제공. \\n\\uf0b7 예시: 서비스 객체가 DAO 를 직접 생성하지 않고, 외부에서 주입받아 \\n사용함으로써 모듈 간의 의존성을 느슨하게 유지합니다. \\n참고: Outstanding1301 블로그 \\n관점 지향 프로그래밍(AOP) \\n1. AOP 의 필요성 \\n\\uf0b7 문제 해결: 로깅, 보안, 트랜잭션 관리와 같이 여러 모듈에 공통적으로 \\n적용되는 기능을 핵심 비즈니스 로직과 분리하여 코드 중복을 줄입니다. \\n2. AOP 의 주요 개념 \\n\\uf0b7 어드바이스(Advice): 공통 기능을 구현하는 코드. \\n\\uf0b7 포인트컷(Pointcut): 어드바이스가 적용될 지점을 정의. \\n\\uf0b7 위빙(Weaving): 정의된 포인트컷에 따라 어드바이스를 적용하는 과정. \\n3. 스프링에서의 AOP 활용 \\n\\uf0b7 예시: 트랜잭션 관리, 메소드 실행 전후 로깅, 보안 검증 등을 AOP 를 \\n통해 쉽게 구현할 수 있습니다. \\n참고: Soonggi Tistory \\n스프링 모듈 구성 \\n스프링 프레임워크는 여러 모듈로 구성되어 있어 필요에 따라 선택적으로 사용할 \\n수 있습니다. \\n1. 코어 컨테이너(Core Container) \\n\\uf0b7 Beans: 스프링 빈(객체) 관리. \\n\\uf0b7 Context: 애플리케이션 컨텍스트 제공. \\n\\uf0b7 Core: IoC 와 DI 의 기반 제공. \\n2. 데이터 접근 및 통합(Data Access/Integration) \\n\\uf0b7 JDBC 템플릿: 데이터베이스 접근을 단순화.'),\n",
       " Document(metadata={'producer': 'Microsoft® Word 2016', 'creator': 'Microsoft® Word 2016', 'creationdate': '2025-02-09T14:49:24+09:00', 'author': '이수호', 'moddate': '2025-02-09T14:49:24+09:00', 'source': '../spring_framework_docs.pdf', 'total_pages': 6, 'page': 2, 'page_label': '3'}, page_content='\\uf0b7 ORM 통합: Hibernate, JPA 와의 통합. \\n\\uf0b7 트랜잭션 관리: 선언적 및 프로그램적 트랜잭션 관리 지원. \\n3. 웹(Web) \\n\\uf0b7 Spring MVC: 웹 애플리케이션의 모델-뷰-컨트롤러(MVC) 패턴 구현. \\n\\uf0b7 REST 지원: RESTful 웹 서비스 개발 지원. \\n4. 기타 모듈 \\n\\uf0b7 AOP: 앞서 설명한 관점 지향 프로그래밍 지원. \\n\\uf0b7 메시징: 이벤트 기반 애플리케이션 개발 지원. \\n\\uf0b7 테스트: 단위 테스트와 통합 테스트 지원. \\n참고: Velog \\n스프링 MVC 아키텍처 \\n1. 개요 \\n스프링 MVC 는 웹 애플리케이션 개발을 위한 프레임워크로, 클라이언트의 \\n요청을 효과적으로 처리하기 위한 모델-뷰-컨트롤러 패턴을 따릅니다. \\n2. 구성 요소 \\n\\uf0b7 DispatcherServlet: 모든 요청을 중앙에서 받아서 처리하고, 해당 \\n컨트롤러로 요청을 전달합니다. \\n\\uf0b7 Controller: 비즈니스 로직을 처리하고, 모델 데이터를 생성하여 뷰에 \\n전달합니다. \\n\\uf0b7 View Resolver: 컨트롤러에서 전달받은 모델 데이터를 기반으로 실제 \\n뷰(JSP, Thymeleaf 등)를 렌더링합니다. \\n\\uf0b7 Handler Mapping: 요청 URL 을 적절한 컨트롤러에 매핑하는 역할을 \\n합니다. \\n3. 특징 \\n\\uf0b7 유연성: 다양한 뷰 기술과의 통합이 용이합니다. \\n\\uf0b7 확장성: 요청 처리 파이프라인을 커스터마이징할 수 있습니다. \\n참고: OutStanding1301 블로그 \\n데이터 접근 및 트랜잭션 관리'),\n",
       " Document(metadata={'producer': 'Microsoft® Word 2016', 'creator': 'Microsoft® Word 2016', 'creationdate': '2025-02-09T14:49:24+09:00', 'author': '이수호', 'moddate': '2025-02-09T14:49:24+09:00', 'source': '../spring_framework_docs.pdf', 'total_pages': 6, 'page': 3, 'page_label': '4'}, page_content='1. 데이터 접근 \\n\\uf0b7 JDBC 템플릿: 반복되는 JDBC 코드(커넥션, PreparedStatement 등)를 \\n추상화하여 개발자가 비즈니스 로직에 집중할 수 있도록 도와줍니다. \\n\\uf0b7 ORM 통합: 스프링은 Hibernate, JPA, MyBatis 등 다양한 ORM \\n프레임워크와 원활하게 통합됩니다. \\n2. 트랜잭션 관리 \\n\\uf0b7 선언적 트랜잭션 관리: 애노테이션(@Transactional)이나 XML 설정을 통해 \\n트랜잭션 경계를 정의할 수 있습니다. \\n\\uf0b7 프로그램적 트랜잭션 관리: 코드 내에서 직접 트랜잭션을 제어하는 방법도 \\n제공됩니다. \\n\\uf0b7 장점: 에러 발생 시 자동 롤백 및 트랜잭션 일관성 유지가 가능합니다. \\n참고: Velog \\n확장 기능 및 보안 \\n1. 스프링 시큐리티(Spring Security) \\n\\uf0b7 기능: 인증, 인가, 암호화 등을 통해 애플리케이션 보안을 강화합니다. \\n\\uf0b7 특징: 필터 체인을 기반으로 하여 유연한 보안 설정을 지원합니다. \\n2. 메시징 및 이벤트 \\n\\uf0b7 메시징: JMS, RabbitMQ 등과의 통합을 통해 비동기 메시징을 지원합니다. \\n\\uf0b7 이벤트: 스프링의 이벤트 발행/구독 모델을 통해 애플리케이션 간의 \\n느슨한 결합을 구현할 수 있습니다. \\n3. 기타 확장 기능 \\n\\uf0b7 캐싱: 스프링은 다양한 캐시 추상화 기능을 제공하여 애플리케이션 성능을 \\n향상시킵니다. \\n\\uf0b7 스케줄링: 정기적 작업 스케줄링을 위한 기능을 내장하고 있습니다. \\n참고: OutStanding1301 블로그 \\n스프링 부트와 마이크로서비스 \\n1. 스프링 부트(Spring Boot)'),\n",
       " Document(metadata={'producer': 'Microsoft® Word 2016', 'creator': 'Microsoft® Word 2016', 'creationdate': '2025-02-09T14:49:24+09:00', 'author': '이수호', 'moddate': '2025-02-09T14:49:24+09:00', 'source': '../spring_framework_docs.pdf', 'total_pages': 6, 'page': 4, 'page_label': '5'}, page_content='\\uf0b7 목적: 스프링 기반 애플리케이션의 초기 설정과 구성을 단순화하여, \\n개발자가 빠르게 시작할 수 있도록 지원합니다. \\n\\uf0b7 특징: \\no 자동 구성(Auto-Configuration): 환경에 맞는 기본 설정을 자동으로 \\n적용합니다. \\no 내장 서버: Tomcat, Jetty 등의 내장 서버를 사용해 별도의 서버 \\n설정 없이 애플리케이션 실행이 가능합니다. \\no 스타터 패키지: 다양한 기능을 손쉽게 추가할 수 있도록 스타터 \\n의존성을 제공합니다. \\n2. 마이크로서비스 아키텍처 \\n\\uf0b7 스프링 클라우드: 분산 환경에서의 마이크로서비스 구축을 위한 다양한 \\n도구(서비스 등록, 구성 관리, API 게이트웨이 등)를 제공합니다. \\n\\uf0b7 장점: 개별 서비스의 독립적 배포 및 확장이 가능하여, 대규모 시스템을 \\n유연하게 관리할 수 있습니다. \\n참고: Spring Boot 공식 문서 \\n결론 및 향후 전망 \\n1. 결론 \\n스프링 프레임워크는 자바 기반 애플리케이션 개발에 있어 유연성과 확장성을 \\n극대화하는 강력한 도구입니다. \\n\\uf0b7 주요 강점: IoC/DI, AOP 를 통한 모듈화, 다양한 서브 모듈 제공 \\n\\uf0b7 활용 분야: 엔터프라이즈 애플리케이션, 웹 애플리케이션, 마이크로서비스 \\n아키텍처 등 \\n2. 향후 전망 \\n\\uf0b7 클라우드 네이티브: 스프링 부트와 스프링 클라우드를 통한 클라우드 환경 \\n대응 강화 \\n\\uf0b7 개발 생산성: 지속적인 업데이트와 커뮤니티의 활발한 기여를 통해 개발 \\n생산성이 향상될 전망 \\n\\uf0b7 보안 및 확장: 스프링 시큐리티, 캐싱 등 다양한 확장 기능이 앞으로도 \\n발전할 것으로 예상됩니다. \\n3. 참고 자료 및 추가 학습 \\n\\uf0b7 공식 문서: Spring Framework Reference Documentation \\n\\uf0b7 온라인 강의: 다양한 온라인 플랫폼에서 제공하는 스프링 강좌'),\n",
       " Document(metadata={'producer': 'Microsoft® Word 2016', 'creator': 'Microsoft® Word 2016', 'creationdate': '2025-02-09T14:49:24+09:00', 'author': '이수호', 'moddate': '2025-02-09T14:49:24+09:00', 'source': '../spring_framework_docs.pdf', 'total_pages': 6, 'page': 5, 'page_label': '6'}, page_content='\\uf0b7 커뮤니티: GitHub, Stack Overflow, 블로그 및 포럼 등에서 최신 정보를 \\n확인 \\n \\n마무리 \\n이 문서는 스프링 프레임워크의 전반적인 내용을 10 페이지 분량으로 \\n구성하였으며, 각 페이지마다 핵심 개념과 모듈, 그리고 최신 동향을 포함하여 \\n정리하였습니다. \\n추가적인 세부 사항이나 최신 정보는 위의 참고 자료를 통해 지속적으로 \\n업데이트 하실 수 있습니다.')]"
      ]
     },
     "execution_count": 3,
     "metadata": {},
     "output_type": "execute_result"
    }
   ],
   "source": [
    "pages"
   ]
  },
  {
   "cell_type": "code",
   "execution_count": 4,
   "metadata": {},
   "outputs": [
    {
     "name": "stdout",
     "output_type": "stream",
     "text": [
      "Requirement already satisfied: py-zerox in /root/.pyenv/versions/3.11.2/lib/python3.11/site-packages (0.0.7)\n",
      "Requirement already satisfied: aiofiles>=23.0 in /root/.pyenv/versions/3.11.2/lib/python3.11/site-packages (from py-zerox) (24.1.0)\n",
      "Requirement already satisfied: aiohttp>=3.9.5 in /root/.pyenv/versions/3.11.2/lib/python3.11/site-packages (from py-zerox) (3.11.11)\n",
      "Requirement already satisfied: pdf2image>=1.17.0 in /root/.pyenv/versions/3.11.2/lib/python3.11/site-packages (from py-zerox) (1.17.0)\n",
      "Requirement already satisfied: litellm>=1.44.15 in /root/.pyenv/versions/3.11.2/lib/python3.11/site-packages (from py-zerox) (1.60.0)\n",
      "Requirement already satisfied: aioshutil>=1.5 in /root/.pyenv/versions/3.11.2/lib/python3.11/site-packages (from py-zerox) (1.5)\n",
      "Requirement already satisfied: PyPDF2>=3.0.1 in /root/.pyenv/versions/3.11.2/lib/python3.11/site-packages (from py-zerox) (3.0.1)\n",
      "Requirement already satisfied: aiohappyeyeballs>=2.3.0 in /root/.pyenv/versions/3.11.2/lib/python3.11/site-packages (from aiohttp>=3.9.5->py-zerox) (2.4.4)\n",
      "Requirement already satisfied: aiosignal>=1.1.2 in /root/.pyenv/versions/3.11.2/lib/python3.11/site-packages (from aiohttp>=3.9.5->py-zerox) (1.3.2)\n",
      "Requirement already satisfied: attrs>=17.3.0 in /root/.pyenv/versions/3.11.2/lib/python3.11/site-packages (from aiohttp>=3.9.5->py-zerox) (25.1.0)\n",
      "Requirement already satisfied: frozenlist>=1.1.1 in /root/.pyenv/versions/3.11.2/lib/python3.11/site-packages (from aiohttp>=3.9.5->py-zerox) (1.5.0)\n",
      "Requirement already satisfied: multidict<7.0,>=4.5 in /root/.pyenv/versions/3.11.2/lib/python3.11/site-packages (from aiohttp>=3.9.5->py-zerox) (6.1.0)\n",
      "Requirement already satisfied: propcache>=0.2.0 in /root/.pyenv/versions/3.11.2/lib/python3.11/site-packages (from aiohttp>=3.9.5->py-zerox) (0.2.1)\n",
      "Requirement already satisfied: yarl<2.0,>=1.17.0 in /root/.pyenv/versions/3.11.2/lib/python3.11/site-packages (from aiohttp>=3.9.5->py-zerox) (1.18.3)\n",
      "Requirement already satisfied: click in /root/.pyenv/versions/3.11.2/lib/python3.11/site-packages (from litellm>=1.44.15->py-zerox) (8.1.8)\n",
      "Requirement already satisfied: httpx<0.28.0,>=0.23.0 in /root/.pyenv/versions/3.11.2/lib/python3.11/site-packages (from litellm>=1.44.15->py-zerox) (0.27.2)\n",
      "Requirement already satisfied: importlib-metadata>=6.8.0 in /root/.pyenv/versions/3.11.2/lib/python3.11/site-packages (from litellm>=1.44.15->py-zerox) (8.5.0)\n",
      "Requirement already satisfied: jinja2<4.0.0,>=3.1.2 in /root/.pyenv/versions/3.11.2/lib/python3.11/site-packages (from litellm>=1.44.15->py-zerox) (3.1.5)\n",
      "Requirement already satisfied: jsonschema<5.0.0,>=4.22.0 in /root/.pyenv/versions/3.11.2/lib/python3.11/site-packages (from litellm>=1.44.15->py-zerox) (4.23.0)\n",
      "Requirement already satisfied: openai>=1.55.3 in /root/.pyenv/versions/3.11.2/lib/python3.11/site-packages (from litellm>=1.44.15->py-zerox) (1.61.0)\n",
      "Requirement already satisfied: pydantic<3.0.0,>=2.0.0 in /root/.pyenv/versions/3.11.2/lib/python3.11/site-packages (from litellm>=1.44.15->py-zerox) (2.10.6)\n",
      "Requirement already satisfied: python-dotenv>=0.2.0 in /root/.pyenv/versions/3.11.2/lib/python3.11/site-packages (from litellm>=1.44.15->py-zerox) (1.0.1)\n",
      "Requirement already satisfied: tiktoken>=0.7.0 in /root/.pyenv/versions/3.11.2/lib/python3.11/site-packages (from litellm>=1.44.15->py-zerox) (0.8.0)\n",
      "Requirement already satisfied: tokenizers in /root/.pyenv/versions/3.11.2/lib/python3.11/site-packages (from litellm>=1.44.15->py-zerox) (0.21.0)\n",
      "Requirement already satisfied: pillow in /root/.pyenv/versions/3.11.2/lib/python3.11/site-packages (from pdf2image>=1.17.0->py-zerox) (11.1.0)\n",
      "Requirement already satisfied: anyio in /root/.pyenv/versions/3.11.2/lib/python3.11/site-packages (from httpx<0.28.0,>=0.23.0->litellm>=1.44.15->py-zerox) (4.8.0)\n",
      "Requirement already satisfied: certifi in /root/.pyenv/versions/3.11.2/lib/python3.11/site-packages (from httpx<0.28.0,>=0.23.0->litellm>=1.44.15->py-zerox) (2025.1.31)\n",
      "Requirement already satisfied: httpcore==1.* in /root/.pyenv/versions/3.11.2/lib/python3.11/site-packages (from httpx<0.28.0,>=0.23.0->litellm>=1.44.15->py-zerox) (1.0.7)\n",
      "Requirement already satisfied: idna in /root/.pyenv/versions/3.11.2/lib/python3.11/site-packages (from httpx<0.28.0,>=0.23.0->litellm>=1.44.15->py-zerox) (3.10)\n",
      "Requirement already satisfied: sniffio in /root/.pyenv/versions/3.11.2/lib/python3.11/site-packages (from httpx<0.28.0,>=0.23.0->litellm>=1.44.15->py-zerox) (1.3.1)\n",
      "Requirement already satisfied: h11<0.15,>=0.13 in /root/.pyenv/versions/3.11.2/lib/python3.11/site-packages (from httpcore==1.*->httpx<0.28.0,>=0.23.0->litellm>=1.44.15->py-zerox) (0.14.0)\n",
      "Requirement already satisfied: zipp>=3.20 in /root/.pyenv/versions/3.11.2/lib/python3.11/site-packages (from importlib-metadata>=6.8.0->litellm>=1.44.15->py-zerox) (3.21.0)\n",
      "Requirement already satisfied: MarkupSafe>=2.0 in /root/.pyenv/versions/3.11.2/lib/python3.11/site-packages (from jinja2<4.0.0,>=3.1.2->litellm>=1.44.15->py-zerox) (3.0.2)\n",
      "Requirement already satisfied: jsonschema-specifications>=2023.03.6 in /root/.pyenv/versions/3.11.2/lib/python3.11/site-packages (from jsonschema<5.0.0,>=4.22.0->litellm>=1.44.15->py-zerox) (2024.10.1)\n",
      "Requirement already satisfied: referencing>=0.28.4 in /root/.pyenv/versions/3.11.2/lib/python3.11/site-packages (from jsonschema<5.0.0,>=4.22.0->litellm>=1.44.15->py-zerox) (0.36.2)\n",
      "Requirement already satisfied: rpds-py>=0.7.1 in /root/.pyenv/versions/3.11.2/lib/python3.11/site-packages (from jsonschema<5.0.0,>=4.22.0->litellm>=1.44.15->py-zerox) (0.22.3)\n",
      "Requirement already satisfied: distro<2,>=1.7.0 in /root/.pyenv/versions/3.11.2/lib/python3.11/site-packages (from openai>=1.55.3->litellm>=1.44.15->py-zerox) (1.9.0)\n",
      "Requirement already satisfied: jiter<1,>=0.4.0 in /root/.pyenv/versions/3.11.2/lib/python3.11/site-packages (from openai>=1.55.3->litellm>=1.44.15->py-zerox) (0.8.2)\n",
      "Requirement already satisfied: tqdm>4 in /root/.pyenv/versions/3.11.2/lib/python3.11/site-packages (from openai>=1.55.3->litellm>=1.44.15->py-zerox) (4.67.1)\n",
      "Requirement already satisfied: typing-extensions<5,>=4.11 in /root/.pyenv/versions/3.11.2/lib/python3.11/site-packages (from openai>=1.55.3->litellm>=1.44.15->py-zerox) (4.12.2)\n",
      "Requirement already satisfied: annotated-types>=0.6.0 in /root/.pyenv/versions/3.11.2/lib/python3.11/site-packages (from pydantic<3.0.0,>=2.0.0->litellm>=1.44.15->py-zerox) (0.7.0)\n",
      "Requirement already satisfied: pydantic-core==2.27.2 in /root/.pyenv/versions/3.11.2/lib/python3.11/site-packages (from pydantic<3.0.0,>=2.0.0->litellm>=1.44.15->py-zerox) (2.27.2)\n",
      "Requirement already satisfied: regex>=2022.1.18 in /root/.pyenv/versions/3.11.2/lib/python3.11/site-packages (from tiktoken>=0.7.0->litellm>=1.44.15->py-zerox) (2024.11.6)\n",
      "Requirement already satisfied: requests>=2.26.0 in /root/.pyenv/versions/3.11.2/lib/python3.11/site-packages (from tiktoken>=0.7.0->litellm>=1.44.15->py-zerox) (2.32.3)\n",
      "Requirement already satisfied: huggingface-hub<1.0,>=0.16.4 in /root/.pyenv/versions/3.11.2/lib/python3.11/site-packages (from tokenizers->litellm>=1.44.15->py-zerox) (0.28.1)\n",
      "Requirement already satisfied: filelock in /root/.pyenv/versions/3.11.2/lib/python3.11/site-packages (from huggingface-hub<1.0,>=0.16.4->tokenizers->litellm>=1.44.15->py-zerox) (3.17.0)\n",
      "Requirement already satisfied: fsspec>=2023.5.0 in /root/.pyenv/versions/3.11.2/lib/python3.11/site-packages (from huggingface-hub<1.0,>=0.16.4->tokenizers->litellm>=1.44.15->py-zerox) (2025.2.0)\n",
      "Requirement already satisfied: packaging>=20.9 in /root/.pyenv/versions/3.11.2/lib/python3.11/site-packages (from huggingface-hub<1.0,>=0.16.4->tokenizers->litellm>=1.44.15->py-zerox) (24.2)\n",
      "Requirement already satisfied: pyyaml>=5.1 in /root/.pyenv/versions/3.11.2/lib/python3.11/site-packages (from huggingface-hub<1.0,>=0.16.4->tokenizers->litellm>=1.44.15->py-zerox) (6.0.2)\n",
      "Requirement already satisfied: charset-normalizer<4,>=2 in /root/.pyenv/versions/3.11.2/lib/python3.11/site-packages (from requests>=2.26.0->tiktoken>=0.7.0->litellm>=1.44.15->py-zerox) (3.4.1)\n",
      "Requirement already satisfied: urllib3<3,>=1.21.1 in /root/.pyenv/versions/3.11.2/lib/python3.11/site-packages (from requests>=2.26.0->tiktoken>=0.7.0->litellm>=1.44.15->py-zerox) (2.3.0)\n",
      "\u001b[33mWARNING: Running pip as the 'root' user can result in broken permissions and conflicting behaviour with the system package manager, possibly rendering your system unusable. It is recommended to use a virtual environment instead: https://pip.pypa.io/warnings/venv. Use the --root-user-action option if you know what you are doing and want to suppress this warning.\u001b[0m\u001b[33m\n",
      "\u001b[0mNote: you may need to restart the kernel to use updated packages.\n"
     ]
    }
   ],
   "source": [
    "# PDF 문서안에 테이블과 이미지와 같은 문서를 추출하기 위해 zerox 패키지를 사용\n",
    "# https://github.com/getomni-ai/zerox\n",
    "%pip install py-zerox"
   ]
  },
  {
   "cell_type": "code",
   "execution_count": 5,
   "metadata": {},
   "outputs": [
    {
     "name": "stdout",
     "output_type": "stream",
     "text": [
      "\u001b[33mWARNING: Running pip as the 'root' user can result in broken permissions and conflicting behaviour with the system package manager, possibly rendering your system unusable. It is recommended to use a virtual environment instead: https://pip.pypa.io/warnings/venv. Use the --root-user-action option if you know what you are doing and want to suppress this warning.\u001b[0m\u001b[33m\n",
      "\u001b[0mNote: you may need to restart the kernel to use updated packages.\n"
     ]
    }
   ],
   "source": [
    "# asyncio를 실행할 때, 이벤트루프가 없어야하나, notebook엣 default로 발생시키는 이벤트루프가 있어서, nest_asyncio를 사용하여 중첩된 이벤트루프를 사용할 수 있도록 함\n",
    "%pip install -q nest_asyncio"
   ]
  },
  {
   "cell_type": "code",
   "execution_count": 6,
   "metadata": {},
   "outputs": [],
   "source": [
    "import nest_asyncio\n",
    "nest_asyncio.apply()"
   ]
  },
  {
   "cell_type": "code",
   "execution_count": 7,
   "metadata": {},
   "outputs": [
    {
     "name": "stderr",
     "output_type": "stream",
     "text": [
      "/root/.pyenv/versions/3.11.2/lib/python3.11/site-packages/pydantic/_internal/_config.py:345: UserWarning: Valid config keys have changed in V2:\n",
      "* 'fields' has been removed\n",
      "  warnings.warn(message, UserWarning)\n"
     ]
    },
    {
     "ename": "KeyboardInterrupt",
     "evalue": "",
     "output_type": "error",
     "traceback": [
      "\u001b[0;31m---------------------------------------------------------------------------\u001b[0m",
      "\u001b[0;31mKeyboardInterrupt\u001b[0m                         Traceback (most recent call last)",
      "Cell \u001b[0;32mIn[7], line 22\u001b[0m\n\u001b[1;32m     19\u001b[0m load_dotenv()\n\u001b[1;32m     21\u001b[0m \u001b[38;5;66;03m# PyZeroX 임포트는 .env 로드 후에 하는 것을 권장\u001b[39;00m\n\u001b[0;32m---> 22\u001b[0m \u001b[38;5;28;01mfrom\u001b[39;00m\u001b[38;5;250m \u001b[39m\u001b[38;5;21;01mpyzerox\u001b[39;00m\u001b[38;5;250m \u001b[39m\u001b[38;5;28;01mimport\u001b[39;00m zerox\n\u001b[1;32m     25\u001b[0m \u001b[38;5;28;01mdef\u001b[39;00m\u001b[38;5;250m \u001b[39m\u001b[38;5;21mcheck_environment_variables\u001b[39m() \u001b[38;5;241m-\u001b[39m\u001b[38;5;241m>\u001b[39m \u001b[38;5;28;01mNone\u001b[39;00m:\n\u001b[1;32m     26\u001b[0m \u001b[38;5;250m    \u001b[39m\u001b[38;5;124;03m\"\"\"\u001b[39;00m\n\u001b[1;32m     27\u001b[0m \u001b[38;5;124;03m    주 사용 환경 변수(예: OPENAI_API_KEY)가 제대로 설정되어 있는지 검사.\u001b[39;00m\n\u001b[1;32m     28\u001b[0m \u001b[38;5;124;03m    미설정 시 조기 종료 또는 사용자에게 경고 표시.\u001b[39;00m\n\u001b[1;32m     29\u001b[0m \u001b[38;5;124;03m    \"\"\"\u001b[39;00m\n",
      "File \u001b[0;32m~/.pyenv/versions/3.11.2/lib/python3.11/site-packages/pyzerox/__init__.py:1\u001b[0m\n\u001b[0;32m----> 1\u001b[0m \u001b[38;5;28;01mfrom\u001b[39;00m\u001b[38;5;250m \u001b[39m\u001b[38;5;21;01m.\u001b[39;00m\u001b[38;5;21;01mcore\u001b[39;00m\u001b[38;5;250m \u001b[39m\u001b[38;5;28;01mimport\u001b[39;00m zerox\n\u001b[1;32m      2\u001b[0m \u001b[38;5;28;01mfrom\u001b[39;00m\u001b[38;5;250m \u001b[39m\u001b[38;5;21;01m.\u001b[39;00m\u001b[38;5;21;01mconstants\u001b[39;00m\u001b[38;5;21;01m.\u001b[39;00m\u001b[38;5;21;01mprompts\u001b[39;00m\u001b[38;5;250m \u001b[39m\u001b[38;5;28;01mimport\u001b[39;00m Prompts\n\u001b[1;32m      4\u001b[0m DEFAULT_SYSTEM_PROMPT \u001b[38;5;241m=\u001b[39m Prompts\u001b[38;5;241m.\u001b[39mDEFAULT_SYSTEM_PROMPT\n",
      "File \u001b[0;32m~/.pyenv/versions/3.11.2/lib/python3.11/site-packages/pyzerox/core/__init__.py:1\u001b[0m\n\u001b[0;32m----> 1\u001b[0m \u001b[38;5;28;01mfrom\u001b[39;00m\u001b[38;5;250m \u001b[39m\u001b[38;5;21;01m.\u001b[39;00m\u001b[38;5;21;01mzerox\u001b[39;00m\u001b[38;5;250m \u001b[39m\u001b[38;5;28;01mimport\u001b[39;00m zerox\n\u001b[1;32m      3\u001b[0m __all__ \u001b[38;5;241m=\u001b[39m [\n\u001b[1;32m      4\u001b[0m     \u001b[38;5;124m\"\u001b[39m\u001b[38;5;124mzerox\u001b[39m\u001b[38;5;124m\"\u001b[39m,\n\u001b[1;32m      5\u001b[0m ]\n",
      "File \u001b[0;32m~/.pyenv/versions/3.11.2/lib/python3.11/site-packages/pyzerox/core/zerox.py:12\u001b[0m\n\u001b[1;32m      9\u001b[0m \u001b[38;5;28;01mimport\u001b[39;00m\u001b[38;5;250m \u001b[39m\u001b[38;5;21;01masyncio\u001b[39;00m\n\u001b[1;32m     11\u001b[0m \u001b[38;5;66;03m# Package Imports\u001b[39;00m\n\u001b[0;32m---> 12\u001b[0m \u001b[38;5;28;01mfrom\u001b[39;00m\u001b[38;5;250m \u001b[39m\u001b[38;5;21;01m.\u001b[39;00m\u001b[38;5;21;01m.\u001b[39;00m\u001b[38;5;21;01mprocessor\u001b[39;00m\u001b[38;5;250m \u001b[39m\u001b[38;5;28;01mimport\u001b[39;00m (\n\u001b[1;32m     13\u001b[0m     convert_pdf_to_images,\n\u001b[1;32m     14\u001b[0m     download_file,\n\u001b[1;32m     15\u001b[0m     process_page,\n\u001b[1;32m     16\u001b[0m     process_pages_in_batches,\n\u001b[1;32m     17\u001b[0m     create_selected_pages_pdf,\n\u001b[1;32m     18\u001b[0m )\n\u001b[1;32m     19\u001b[0m \u001b[38;5;28;01mfrom\u001b[39;00m\u001b[38;5;250m \u001b[39m\u001b[38;5;21;01m.\u001b[39;00m\u001b[38;5;21;01m.\u001b[39;00m\u001b[38;5;21;01merrors\u001b[39;00m\u001b[38;5;250m \u001b[39m\u001b[38;5;28;01mimport\u001b[39;00m FileUnavailable\n\u001b[1;32m     20\u001b[0m \u001b[38;5;28;01mfrom\u001b[39;00m\u001b[38;5;250m \u001b[39m\u001b[38;5;21;01m.\u001b[39;00m\u001b[38;5;21;01m.\u001b[39;00m\u001b[38;5;21;01mconstants\u001b[39;00m\u001b[38;5;21;01m.\u001b[39;00m\u001b[38;5;21;01mmessages\u001b[39;00m\u001b[38;5;250m \u001b[39m\u001b[38;5;28;01mimport\u001b[39;00m Messages\n",
      "File \u001b[0;32m~/.pyenv/versions/3.11.2/lib/python3.11/site-packages/pyzerox/processor/__init__.py:2\u001b[0m\n\u001b[1;32m      1\u001b[0m \u001b[38;5;28;01mfrom\u001b[39;00m\u001b[38;5;250m \u001b[39m\u001b[38;5;21;01m.\u001b[39;00m\u001b[38;5;21;01mimage\u001b[39;00m\u001b[38;5;250m \u001b[39m\u001b[38;5;28;01mimport\u001b[39;00m save_image, encode_image_to_base64\n\u001b[0;32m----> 2\u001b[0m \u001b[38;5;28;01mfrom\u001b[39;00m\u001b[38;5;250m \u001b[39m\u001b[38;5;21;01m.\u001b[39;00m\u001b[38;5;21;01mpdf\u001b[39;00m\u001b[38;5;250m \u001b[39m\u001b[38;5;28;01mimport\u001b[39;00m (\n\u001b[1;32m      3\u001b[0m     convert_pdf_to_images,\n\u001b[1;32m      4\u001b[0m     process_page,\n\u001b[1;32m      5\u001b[0m     process_pages_in_batches,\n\u001b[1;32m      6\u001b[0m )\n\u001b[1;32m      7\u001b[0m \u001b[38;5;28;01mfrom\u001b[39;00m\u001b[38;5;250m \u001b[39m\u001b[38;5;21;01m.\u001b[39;00m\u001b[38;5;21;01mtext\u001b[39;00m\u001b[38;5;250m \u001b[39m\u001b[38;5;28;01mimport\u001b[39;00m format_markdown\n\u001b[1;32m      8\u001b[0m \u001b[38;5;28;01mfrom\u001b[39;00m\u001b[38;5;250m \u001b[39m\u001b[38;5;21;01m.\u001b[39;00m\u001b[38;5;21;01mutils\u001b[39;00m\u001b[38;5;250m \u001b[39m\u001b[38;5;28;01mimport\u001b[39;00m download_file, create_selected_pages_pdf\n",
      "File \u001b[0;32m~/.pyenv/versions/3.11.2/lib/python3.11/site-packages/pyzerox/processor/pdf.py:11\u001b[0m\n\u001b[1;32m      9\u001b[0m \u001b[38;5;28;01mfrom\u001b[39;00m\u001b[38;5;250m \u001b[39m\u001b[38;5;21;01m.\u001b[39;00m\u001b[38;5;21;01mtext\u001b[39;00m\u001b[38;5;250m \u001b[39m\u001b[38;5;28;01mimport\u001b[39;00m format_markdown\n\u001b[1;32m     10\u001b[0m \u001b[38;5;28;01mfrom\u001b[39;00m\u001b[38;5;250m \u001b[39m\u001b[38;5;21;01m.\u001b[39;00m\u001b[38;5;21;01m.\u001b[39;00m\u001b[38;5;21;01mconstants\u001b[39;00m\u001b[38;5;250m \u001b[39m\u001b[38;5;28;01mimport\u001b[39;00m PDFConversionDefaultOptions, Messages\n\u001b[0;32m---> 11\u001b[0m \u001b[38;5;28;01mfrom\u001b[39;00m\u001b[38;5;250m \u001b[39m\u001b[38;5;21;01m.\u001b[39;00m\u001b[38;5;21;01m.\u001b[39;00m\u001b[38;5;21;01mmodels\u001b[39;00m\u001b[38;5;250m \u001b[39m\u001b[38;5;28;01mimport\u001b[39;00m litellmmodel\n\u001b[1;32m     14\u001b[0m \u001b[38;5;28;01masync\u001b[39;00m \u001b[38;5;28;01mdef\u001b[39;00m\u001b[38;5;250m \u001b[39m\u001b[38;5;21mconvert_pdf_to_images\u001b[39m(local_path: \u001b[38;5;28mstr\u001b[39m, temp_dir: \u001b[38;5;28mstr\u001b[39m) \u001b[38;5;241m-\u001b[39m\u001b[38;5;241m>\u001b[39m List[\u001b[38;5;28mstr\u001b[39m]:\n\u001b[1;32m     15\u001b[0m \u001b[38;5;250m    \u001b[39m\u001b[38;5;124;03m\"\"\"Converts a PDF file to a series of images in the temp_dir. Returns a list of image paths in page order.\"\"\"\u001b[39;00m\n",
      "File \u001b[0;32m~/.pyenv/versions/3.11.2/lib/python3.11/site-packages/pyzerox/models/__init__.py:1\u001b[0m\n\u001b[0;32m----> 1\u001b[0m \u001b[38;5;28;01mfrom\u001b[39;00m\u001b[38;5;250m \u001b[39m\u001b[38;5;21;01m.\u001b[39;00m\u001b[38;5;21;01mmodellitellm\u001b[39;00m\u001b[38;5;250m \u001b[39m\u001b[38;5;28;01mimport\u001b[39;00m litellmmodel\n\u001b[1;32m      2\u001b[0m \u001b[38;5;28;01mfrom\u001b[39;00m\u001b[38;5;250m \u001b[39m\u001b[38;5;21;01m.\u001b[39;00m\u001b[38;5;21;01mtypes\u001b[39;00m\u001b[38;5;250m \u001b[39m\u001b[38;5;28;01mimport\u001b[39;00m CompletionResponse\n\u001b[1;32m      4\u001b[0m __all__ \u001b[38;5;241m=\u001b[39m [\n\u001b[1;32m      5\u001b[0m     \u001b[38;5;124m\"\u001b[39m\u001b[38;5;124mlitellmmodel\u001b[39m\u001b[38;5;124m\"\u001b[39m,\n\u001b[1;32m      6\u001b[0m     \u001b[38;5;124m\"\u001b[39m\u001b[38;5;124mCompletionResponse\u001b[39m\u001b[38;5;124m\"\u001b[39m,\n\u001b[1;32m      7\u001b[0m ]\n",
      "File \u001b[0;32m~/.pyenv/versions/3.11.2/lib/python3.11/site-packages/pyzerox/models/modellitellm.py:4\u001b[0m\n\u001b[1;32m      2\u001b[0m \u001b[38;5;28;01mimport\u001b[39;00m\u001b[38;5;250m \u001b[39m\u001b[38;5;21;01maiohttp\u001b[39;00m\n\u001b[1;32m      3\u001b[0m \u001b[38;5;28;01mimport\u001b[39;00m\u001b[38;5;250m \u001b[39m\u001b[38;5;21;01mwarnings\u001b[39;00m\n\u001b[0;32m----> 4\u001b[0m \u001b[38;5;28;01mimport\u001b[39;00m\u001b[38;5;250m \u001b[39m\u001b[38;5;21;01mlitellm\u001b[39;00m\n\u001b[1;32m      5\u001b[0m \u001b[38;5;28;01mfrom\u001b[39;00m\u001b[38;5;250m \u001b[39m\u001b[38;5;21;01mtyping\u001b[39;00m\u001b[38;5;250m \u001b[39m\u001b[38;5;28;01mimport\u001b[39;00m List, Dict, Any, Optional\n\u001b[1;32m      7\u001b[0m \u001b[38;5;66;03m# Package Imports\u001b[39;00m\n",
      "File \u001b[0;32m~/.pyenv/versions/3.11.2/lib/python3.11/site-packages/litellm/__init__.py:725\u001b[0m\n\u001b[1;32m    722\u001b[0m openai_image_generation_models \u001b[38;5;241m=\u001b[39m [\u001b[38;5;124m\"\u001b[39m\u001b[38;5;124mdall-e-2\u001b[39m\u001b[38;5;124m\"\u001b[39m, \u001b[38;5;124m\"\u001b[39m\u001b[38;5;124mdall-e-3\u001b[39m\u001b[38;5;124m\"\u001b[39m]\n\u001b[1;32m    724\u001b[0m \u001b[38;5;28;01mfrom\u001b[39;00m\u001b[38;5;250m \u001b[39m\u001b[38;5;21;01m.\u001b[39;00m\u001b[38;5;21;01mtimeout\u001b[39;00m\u001b[38;5;250m \u001b[39m\u001b[38;5;28;01mimport\u001b[39;00m timeout\n\u001b[0;32m--> 725\u001b[0m \u001b[38;5;28;01mfrom\u001b[39;00m\u001b[38;5;250m \u001b[39m\u001b[38;5;21;01m.\u001b[39;00m\u001b[38;5;21;01mcost_calculator\u001b[39;00m\u001b[38;5;250m \u001b[39m\u001b[38;5;28;01mimport\u001b[39;00m completion_cost\n\u001b[1;32m    726\u001b[0m \u001b[38;5;28;01mfrom\u001b[39;00m\u001b[38;5;250m \u001b[39m\u001b[38;5;21;01mlitellm\u001b[39;00m\u001b[38;5;21;01m.\u001b[39;00m\u001b[38;5;21;01mlitellm_core_utils\u001b[39;00m\u001b[38;5;21;01m.\u001b[39;00m\u001b[38;5;21;01mlitellm_logging\u001b[39;00m\u001b[38;5;250m \u001b[39m\u001b[38;5;28;01mimport\u001b[39;00m Logging, modify_integration\n\u001b[1;32m    727\u001b[0m \u001b[38;5;28;01mfrom\u001b[39;00m\u001b[38;5;250m \u001b[39m\u001b[38;5;21;01mlitellm\u001b[39;00m\u001b[38;5;21;01m.\u001b[39;00m\u001b[38;5;21;01mlitellm_core_utils\u001b[39;00m\u001b[38;5;21;01m.\u001b[39;00m\u001b[38;5;21;01mget_llm_provider_logic\u001b[39;00m\u001b[38;5;250m \u001b[39m\u001b[38;5;28;01mimport\u001b[39;00m get_llm_provider\n",
      "File \u001b[0;32m~/.pyenv/versions/3.11.2/lib/python3.11/site-packages/litellm/cost_calculator.py:12\u001b[0m\n\u001b[1;32m     10\u001b[0m \u001b[38;5;28;01mimport\u001b[39;00m\u001b[38;5;250m \u001b[39m\u001b[38;5;21;01mlitellm\u001b[39;00m\u001b[38;5;21;01m.\u001b[39;00m\u001b[38;5;21;01m_logging\u001b[39;00m\n\u001b[1;32m     11\u001b[0m \u001b[38;5;28;01mfrom\u001b[39;00m\u001b[38;5;250m \u001b[39m\u001b[38;5;21;01mlitellm\u001b[39;00m\u001b[38;5;250m \u001b[39m\u001b[38;5;28;01mimport\u001b[39;00m verbose_logger\n\u001b[0;32m---> 12\u001b[0m \u001b[38;5;28;01mfrom\u001b[39;00m\u001b[38;5;250m \u001b[39m\u001b[38;5;21;01mlitellm\u001b[39;00m\u001b[38;5;21;01m.\u001b[39;00m\u001b[38;5;21;01mlitellm_core_utils\u001b[39;00m\u001b[38;5;21;01m.\u001b[39;00m\u001b[38;5;21;01mllm_cost_calc\u001b[39;00m\u001b[38;5;21;01m.\u001b[39;00m\u001b[38;5;21;01mutils\u001b[39;00m\u001b[38;5;250m \u001b[39m\u001b[38;5;28;01mimport\u001b[39;00m _generic_cost_per_character\n\u001b[1;32m     13\u001b[0m \u001b[38;5;28;01mfrom\u001b[39;00m\u001b[38;5;250m \u001b[39m\u001b[38;5;21;01mlitellm\u001b[39;00m\u001b[38;5;21;01m.\u001b[39;00m\u001b[38;5;21;01mllms\u001b[39;00m\u001b[38;5;21;01m.\u001b[39;00m\u001b[38;5;21;01manthropic\u001b[39;00m\u001b[38;5;21;01m.\u001b[39;00m\u001b[38;5;21;01mcost_calculation\u001b[39;00m\u001b[38;5;250m \u001b[39m\u001b[38;5;28;01mimport\u001b[39;00m (\n\u001b[1;32m     14\u001b[0m     cost_per_token \u001b[38;5;28;01mas\u001b[39;00m anthropic_cost_per_token,\n\u001b[1;32m     15\u001b[0m )\n\u001b[1;32m     16\u001b[0m \u001b[38;5;28;01mfrom\u001b[39;00m\u001b[38;5;250m \u001b[39m\u001b[38;5;21;01mlitellm\u001b[39;00m\u001b[38;5;21;01m.\u001b[39;00m\u001b[38;5;21;01mllms\u001b[39;00m\u001b[38;5;21;01m.\u001b[39;00m\u001b[38;5;21;01mazure\u001b[39;00m\u001b[38;5;21;01m.\u001b[39;00m\u001b[38;5;21;01mcost_calculation\u001b[39;00m\u001b[38;5;250m \u001b[39m\u001b[38;5;28;01mimport\u001b[39;00m (\n\u001b[1;32m     17\u001b[0m     cost_per_token \u001b[38;5;28;01mas\u001b[39;00m azure_openai_cost_per_token,\n\u001b[1;32m     18\u001b[0m )\n",
      "File \u001b[0;32m~/.pyenv/versions/3.11.2/lib/python3.11/site-packages/litellm/litellm_core_utils/llm_cost_calc/utils.py:9\u001b[0m\n\u001b[1;32m      7\u001b[0m \u001b[38;5;28;01mfrom\u001b[39;00m\u001b[38;5;250m \u001b[39m\u001b[38;5;21;01mlitellm\u001b[39;00m\u001b[38;5;250m \u001b[39m\u001b[38;5;28;01mimport\u001b[39;00m verbose_logger\n\u001b[1;32m      8\u001b[0m \u001b[38;5;28;01mfrom\u001b[39;00m\u001b[38;5;250m \u001b[39m\u001b[38;5;21;01mlitellm\u001b[39;00m\u001b[38;5;21;01m.\u001b[39;00m\u001b[38;5;21;01mtypes\u001b[39;00m\u001b[38;5;21;01m.\u001b[39;00m\u001b[38;5;21;01mutils\u001b[39;00m\u001b[38;5;250m \u001b[39m\u001b[38;5;28;01mimport\u001b[39;00m ModelInfo, Usage\n\u001b[0;32m----> 9\u001b[0m \u001b[38;5;28;01mfrom\u001b[39;00m\u001b[38;5;250m \u001b[39m\u001b[38;5;21;01mlitellm\u001b[39;00m\u001b[38;5;21;01m.\u001b[39;00m\u001b[38;5;21;01mutils\u001b[39;00m\u001b[38;5;250m \u001b[39m\u001b[38;5;28;01mimport\u001b[39;00m get_model_info\n\u001b[1;32m     12\u001b[0m \u001b[38;5;28;01mdef\u001b[39;00m\u001b[38;5;250m \u001b[39m\u001b[38;5;21m_is_above_128k\u001b[39m(tokens: \u001b[38;5;28mfloat\u001b[39m) \u001b[38;5;241m-\u001b[39m\u001b[38;5;241m>\u001b[39m \u001b[38;5;28mbool\u001b[39m:\n\u001b[1;32m     13\u001b[0m     \u001b[38;5;28;01mif\u001b[39;00m tokens \u001b[38;5;241m>\u001b[39m \u001b[38;5;241m128000\u001b[39m:\n",
      "File \u001b[0;32m~/.pyenv/versions/3.11.2/lib/python3.11/site-packages/litellm/utils.py:165\u001b[0m\n\u001b[1;32m    131\u001b[0m \u001b[38;5;28;01mfrom\u001b[39;00m\u001b[38;5;250m \u001b[39m\u001b[38;5;21;01mlitellm\u001b[39;00m\u001b[38;5;21;01m.\u001b[39;00m\u001b[38;5;21;01mtypes\u001b[39;00m\u001b[38;5;21;01m.\u001b[39;00m\u001b[38;5;21;01mutils\u001b[39;00m\u001b[38;5;250m \u001b[39m\u001b[38;5;28;01mimport\u001b[39;00m (\n\u001b[1;32m    132\u001b[0m     OPENAI_RESPONSE_HEADERS,\n\u001b[1;32m    133\u001b[0m     CallTypes,\n\u001b[0;32m   (...)\u001b[0m\n\u001b[1;32m    159\u001b[0m     all_litellm_params,\n\u001b[1;32m    160\u001b[0m )\n\u001b[1;32m    162\u001b[0m \u001b[38;5;28;01mwith\u001b[39;00m resources\u001b[38;5;241m.\u001b[39mopen_text(\n\u001b[1;32m    163\u001b[0m     \u001b[38;5;124m\"\u001b[39m\u001b[38;5;124mlitellm.litellm_core_utils.tokenizers\u001b[39m\u001b[38;5;124m\"\u001b[39m, \u001b[38;5;124m\"\u001b[39m\u001b[38;5;124manthropic_tokenizer.json\u001b[39m\u001b[38;5;124m\"\u001b[39m\n\u001b[1;32m    164\u001b[0m ) \u001b[38;5;28;01mas\u001b[39;00m f:\n\u001b[0;32m--> 165\u001b[0m     json_data \u001b[38;5;241m=\u001b[39m \u001b[43mjson\u001b[49m\u001b[38;5;241;43m.\u001b[39;49m\u001b[43mload\u001b[49m\u001b[43m(\u001b[49m\u001b[43mf\u001b[49m\u001b[43m)\u001b[49m\n\u001b[1;32m    166\u001b[0m \u001b[38;5;66;03m# Convert to str (if necessary)\u001b[39;00m\n\u001b[1;32m    167\u001b[0m claude_json_str \u001b[38;5;241m=\u001b[39m json\u001b[38;5;241m.\u001b[39mdumps(json_data)\n",
      "File \u001b[0;32m~/.pyenv/versions/3.11.2/lib/python3.11/json/__init__.py:293\u001b[0m, in \u001b[0;36mload\u001b[0;34m(fp, cls, object_hook, parse_float, parse_int, parse_constant, object_pairs_hook, **kw)\u001b[0m\n\u001b[1;32m    274\u001b[0m \u001b[38;5;28;01mdef\u001b[39;00m\u001b[38;5;250m \u001b[39m\u001b[38;5;21mload\u001b[39m(fp, \u001b[38;5;241m*\u001b[39m, \u001b[38;5;28mcls\u001b[39m\u001b[38;5;241m=\u001b[39m\u001b[38;5;28;01mNone\u001b[39;00m, object_hook\u001b[38;5;241m=\u001b[39m\u001b[38;5;28;01mNone\u001b[39;00m, parse_float\u001b[38;5;241m=\u001b[39m\u001b[38;5;28;01mNone\u001b[39;00m,\n\u001b[1;32m    275\u001b[0m         parse_int\u001b[38;5;241m=\u001b[39m\u001b[38;5;28;01mNone\u001b[39;00m, parse_constant\u001b[38;5;241m=\u001b[39m\u001b[38;5;28;01mNone\u001b[39;00m, object_pairs_hook\u001b[38;5;241m=\u001b[39m\u001b[38;5;28;01mNone\u001b[39;00m, \u001b[38;5;241m*\u001b[39m\u001b[38;5;241m*\u001b[39mkw):\n\u001b[1;32m    276\u001b[0m \u001b[38;5;250m    \u001b[39m\u001b[38;5;124;03m\"\"\"Deserialize ``fp`` (a ``.read()``-supporting file-like object containing\u001b[39;00m\n\u001b[1;32m    277\u001b[0m \u001b[38;5;124;03m    a JSON document) to a Python object.\u001b[39;00m\n\u001b[1;32m    278\u001b[0m \n\u001b[0;32m   (...)\u001b[0m\n\u001b[1;32m    291\u001b[0m \u001b[38;5;124;03m    kwarg; otherwise ``JSONDecoder`` is used.\u001b[39;00m\n\u001b[1;32m    292\u001b[0m \u001b[38;5;124;03m    \"\"\"\u001b[39;00m\n\u001b[0;32m--> 293\u001b[0m     \u001b[38;5;28;01mreturn\u001b[39;00m \u001b[43mloads\u001b[49m\u001b[43m(\u001b[49m\u001b[43mfp\u001b[49m\u001b[38;5;241;43m.\u001b[39;49m\u001b[43mread\u001b[49m\u001b[43m(\u001b[49m\u001b[43m)\u001b[49m\u001b[43m,\u001b[49m\n\u001b[1;32m    294\u001b[0m \u001b[43m        \u001b[49m\u001b[38;5;28;43mcls\u001b[39;49m\u001b[38;5;241;43m=\u001b[39;49m\u001b[38;5;28;43mcls\u001b[39;49m\u001b[43m,\u001b[49m\u001b[43m \u001b[49m\u001b[43mobject_hook\u001b[49m\u001b[38;5;241;43m=\u001b[39;49m\u001b[43mobject_hook\u001b[49m\u001b[43m,\u001b[49m\n\u001b[1;32m    295\u001b[0m \u001b[43m        \u001b[49m\u001b[43mparse_float\u001b[49m\u001b[38;5;241;43m=\u001b[39;49m\u001b[43mparse_float\u001b[49m\u001b[43m,\u001b[49m\u001b[43m \u001b[49m\u001b[43mparse_int\u001b[49m\u001b[38;5;241;43m=\u001b[39;49m\u001b[43mparse_int\u001b[49m\u001b[43m,\u001b[49m\n\u001b[1;32m    296\u001b[0m \u001b[43m        \u001b[49m\u001b[43mparse_constant\u001b[49m\u001b[38;5;241;43m=\u001b[39;49m\u001b[43mparse_constant\u001b[49m\u001b[43m,\u001b[49m\u001b[43m \u001b[49m\u001b[43mobject_pairs_hook\u001b[49m\u001b[38;5;241;43m=\u001b[39;49m\u001b[43mobject_pairs_hook\u001b[49m\u001b[43m,\u001b[49m\u001b[43m \u001b[49m\u001b[38;5;241;43m*\u001b[39;49m\u001b[38;5;241;43m*\u001b[39;49m\u001b[43mkw\u001b[49m\u001b[43m)\u001b[49m\n",
      "File \u001b[0;32m~/.pyenv/versions/3.11.2/lib/python3.11/json/__init__.py:346\u001b[0m, in \u001b[0;36mloads\u001b[0;34m(s, cls, object_hook, parse_float, parse_int, parse_constant, object_pairs_hook, **kw)\u001b[0m\n\u001b[1;32m    341\u001b[0m     s \u001b[38;5;241m=\u001b[39m s\u001b[38;5;241m.\u001b[39mdecode(detect_encoding(s), \u001b[38;5;124m'\u001b[39m\u001b[38;5;124msurrogatepass\u001b[39m\u001b[38;5;124m'\u001b[39m)\n\u001b[1;32m    343\u001b[0m \u001b[38;5;28;01mif\u001b[39;00m (\u001b[38;5;28mcls\u001b[39m \u001b[38;5;129;01mis\u001b[39;00m \u001b[38;5;28;01mNone\u001b[39;00m \u001b[38;5;129;01mand\u001b[39;00m object_hook \u001b[38;5;129;01mis\u001b[39;00m \u001b[38;5;28;01mNone\u001b[39;00m \u001b[38;5;129;01mand\u001b[39;00m\n\u001b[1;32m    344\u001b[0m         parse_int \u001b[38;5;129;01mis\u001b[39;00m \u001b[38;5;28;01mNone\u001b[39;00m \u001b[38;5;129;01mand\u001b[39;00m parse_float \u001b[38;5;129;01mis\u001b[39;00m \u001b[38;5;28;01mNone\u001b[39;00m \u001b[38;5;129;01mand\u001b[39;00m\n\u001b[1;32m    345\u001b[0m         parse_constant \u001b[38;5;129;01mis\u001b[39;00m \u001b[38;5;28;01mNone\u001b[39;00m \u001b[38;5;129;01mand\u001b[39;00m object_pairs_hook \u001b[38;5;129;01mis\u001b[39;00m \u001b[38;5;28;01mNone\u001b[39;00m \u001b[38;5;129;01mand\u001b[39;00m \u001b[38;5;129;01mnot\u001b[39;00m kw):\n\u001b[0;32m--> 346\u001b[0m     \u001b[38;5;28;01mreturn\u001b[39;00m \u001b[43m_default_decoder\u001b[49m\u001b[38;5;241;43m.\u001b[39;49m\u001b[43mdecode\u001b[49m\u001b[43m(\u001b[49m\u001b[43ms\u001b[49m\u001b[43m)\u001b[49m\n\u001b[1;32m    347\u001b[0m \u001b[38;5;28;01mif\u001b[39;00m \u001b[38;5;28mcls\u001b[39m \u001b[38;5;129;01mis\u001b[39;00m \u001b[38;5;28;01mNone\u001b[39;00m:\n\u001b[1;32m    348\u001b[0m     \u001b[38;5;28mcls\u001b[39m \u001b[38;5;241m=\u001b[39m JSONDecoder\n",
      "File \u001b[0;32m~/.pyenv/versions/3.11.2/lib/python3.11/json/decoder.py:337\u001b[0m, in \u001b[0;36mJSONDecoder.decode\u001b[0;34m(self, s, _w)\u001b[0m\n\u001b[1;32m    332\u001b[0m \u001b[38;5;28;01mdef\u001b[39;00m\u001b[38;5;250m \u001b[39m\u001b[38;5;21mdecode\u001b[39m(\u001b[38;5;28mself\u001b[39m, s, _w\u001b[38;5;241m=\u001b[39mWHITESPACE\u001b[38;5;241m.\u001b[39mmatch):\n\u001b[1;32m    333\u001b[0m \u001b[38;5;250m    \u001b[39m\u001b[38;5;124;03m\"\"\"Return the Python representation of ``s`` (a ``str`` instance\u001b[39;00m\n\u001b[1;32m    334\u001b[0m \u001b[38;5;124;03m    containing a JSON document).\u001b[39;00m\n\u001b[1;32m    335\u001b[0m \n\u001b[1;32m    336\u001b[0m \u001b[38;5;124;03m    \"\"\"\u001b[39;00m\n\u001b[0;32m--> 337\u001b[0m     obj, end \u001b[38;5;241m=\u001b[39m \u001b[38;5;28;43mself\u001b[39;49m\u001b[38;5;241;43m.\u001b[39;49m\u001b[43mraw_decode\u001b[49m\u001b[43m(\u001b[49m\u001b[43ms\u001b[49m\u001b[43m,\u001b[49m\u001b[43m \u001b[49m\u001b[43midx\u001b[49m\u001b[38;5;241;43m=\u001b[39;49m\u001b[43m_w\u001b[49m\u001b[43m(\u001b[49m\u001b[43ms\u001b[49m\u001b[43m,\u001b[49m\u001b[43m \u001b[49m\u001b[38;5;241;43m0\u001b[39;49m\u001b[43m)\u001b[49m\u001b[38;5;241;43m.\u001b[39;49m\u001b[43mend\u001b[49m\u001b[43m(\u001b[49m\u001b[43m)\u001b[49m\u001b[43m)\u001b[49m\n\u001b[1;32m    338\u001b[0m     end \u001b[38;5;241m=\u001b[39m _w(s, end)\u001b[38;5;241m.\u001b[39mend()\n\u001b[1;32m    339\u001b[0m     \u001b[38;5;28;01mif\u001b[39;00m end \u001b[38;5;241m!=\u001b[39m \u001b[38;5;28mlen\u001b[39m(s):\n",
      "File \u001b[0;32m~/.pyenv/versions/3.11.2/lib/python3.11/json/decoder.py:353\u001b[0m, in \u001b[0;36mJSONDecoder.raw_decode\u001b[0;34m(self, s, idx)\u001b[0m\n\u001b[1;32m    344\u001b[0m \u001b[38;5;250m\u001b[39m\u001b[38;5;124;03m\"\"\"Decode a JSON document from ``s`` (a ``str`` beginning with\u001b[39;00m\n\u001b[1;32m    345\u001b[0m \u001b[38;5;124;03ma JSON document) and return a 2-tuple of the Python\u001b[39;00m\n\u001b[1;32m    346\u001b[0m \u001b[38;5;124;03mrepresentation and the index in ``s`` where the document ended.\u001b[39;00m\n\u001b[0;32m   (...)\u001b[0m\n\u001b[1;32m    350\u001b[0m \n\u001b[1;32m    351\u001b[0m \u001b[38;5;124;03m\"\"\"\u001b[39;00m\n\u001b[1;32m    352\u001b[0m \u001b[38;5;28;01mtry\u001b[39;00m:\n\u001b[0;32m--> 353\u001b[0m     obj, end \u001b[38;5;241m=\u001b[39m \u001b[38;5;28;43mself\u001b[39;49m\u001b[38;5;241;43m.\u001b[39;49m\u001b[43mscan_once\u001b[49m\u001b[43m(\u001b[49m\u001b[43ms\u001b[49m\u001b[43m,\u001b[49m\u001b[43m \u001b[49m\u001b[43midx\u001b[49m\u001b[43m)\u001b[49m\n\u001b[1;32m    354\u001b[0m \u001b[38;5;28;01mexcept\u001b[39;00m \u001b[38;5;167;01mStopIteration\u001b[39;00m \u001b[38;5;28;01mas\u001b[39;00m err:\n\u001b[1;32m    355\u001b[0m     \u001b[38;5;28;01mraise\u001b[39;00m JSONDecodeError(\u001b[38;5;124m\"\u001b[39m\u001b[38;5;124mExpecting value\u001b[39m\u001b[38;5;124m\"\u001b[39m, s, err\u001b[38;5;241m.\u001b[39mvalue) \u001b[38;5;28;01mfrom\u001b[39;00m\u001b[38;5;250m \u001b[39m\u001b[38;5;28;01mNone\u001b[39;00m\n",
      "\u001b[0;31mKeyboardInterrupt\u001b[0m: "
     ]
    }
   ],
   "source": [
    "# 문서를 AI가 파싱하여 텍스트로 변환하는데 사용하기 떄문에 가격이 매우매우 비싸다. 조심해서 사용해야함\n",
    "\n",
    "import os\n",
    "import sys\n",
    "import json\n",
    "import asyncio\n",
    "\n",
    "# 가능하면 최상단에서 호출 (주피터/파이썬 REPL 등 환경에 따라서 순서가 중요할 수 있음)\n",
    "from dotenv import load_dotenv\n",
    "\n",
    "try:\n",
    "    # UTF-8 출력이 가능한 환경(일반 파이썬 실행)에서만 적용\n",
    "    # 주피터/IPython 환경에서는 OutStream이어서 reconfigure 호출시 AttributeError가 날 수 있음\n",
    "    sys.stdout.reconfigure(encoding='utf-8')\n",
    "except AttributeError:\n",
    "    pass\n",
    "\n",
    "# .env 파일 로드 (OPENAI_API_KEY 등 환경 변수 확인)\n",
    "load_dotenv()\n",
    "\n",
    "# PyZeroX 임포트는 .env 로드 후에 하는 것을 권장\n",
    "from pyzerox import zerox\n",
    "\n",
    "\n",
    "def check_environment_variables() -> None:\n",
    "    \"\"\"\n",
    "    주 사용 환경 변수(예: OPENAI_API_KEY)가 제대로 설정되어 있는지 검사.\n",
    "    미설정 시 조기 종료 또는 사용자에게 경고 표시.\n",
    "    \"\"\"\n",
    "    openai_key = os.getenv(\"OPENAI_API_KEY\")\n",
    "    if not openai_key or not openai_key.startswith(\"sk-\"):\n",
    "        raise EnvironmentError(\n",
    "            \"OPENAI_API_KEY가 제대로 설정되어 있지 않거나 'sk-'로 시작하지 않습니다.\\n\"\n",
    "            \"비싼 API 호출 실패를 방지하기 위해 프로그램을 종료합니다.\"\n",
    "        )\n",
    "\n",
    "\n",
    "async def process_pdf(\n",
    "    file_path: str,\n",
    "    model: str = \"gpt-4o\",\n",
    "    output_dir: str = \"./documents\",\n",
    "    select_pages=None,\n",
    "    system_prompt=None,\n",
    "    **kwargs\n",
    "):\n",
    "    \"\"\"\n",
    "    PDF를 처리해서 결과를 반환하는 메인 비동기 함수.\n",
    "    \n",
    "    :param file_path: 분석할 PDF 파일 경로\n",
    "    :param model: 사용할 모델 (기본값 \"gpt-4o-mini\")\n",
    "    :param output_dir: 처리 결과(마크다운 등) 저장 경로\n",
    "    :param select_pages: 처리할 페이지 선택 (None이면 전체)\n",
    "    :param system_prompt: 시스템 프롬프트\n",
    "    :param kwargs: 모델별 추가 파라미터\n",
    "    :return: Zerox가 생성한 결과\n",
    "    \"\"\"\n",
    "    result = await zerox(\n",
    "        file_path=file_path,\n",
    "        model=model,\n",
    "        output_dir=output_dir,\n",
    "        custom_system_prompt=system_prompt,\n",
    "        select_pages=select_pages,\n",
    "        **kwargs\n",
    "    )\n",
    "    return result\n",
    "\n",
    "\n",
    "def main():\n",
    "    \"\"\"\n",
    "    실제 실행을 담당하는 메인 함수.\n",
    "    \"\"\"\n",
    "    # 1) 환경 변수 점검\n",
    "    check_environment_variables()\n",
    "\n",
    "    # 2) 원하는 파라미터 설정\n",
    "    file_path = \"../spring_framework_docs.pdf\"\n",
    "    model_name = \"gpt-4o\"   # 필요 시 \"gpt-4\", \"gpt-3.5-turbo\" 등으로 교체\n",
    "    output_dir = \"./documents\"\n",
    "    select_pages = None  # None이면 모든 페이지 처리\n",
    "    system_prompt = None # 필요 시 사용자 정의 시스템 프롬프트 지정\n",
    "\n",
    "    # 3) 비동기 함수 실행\n",
    "    try:\n",
    "        result = asyncio.run(process_pdf(\n",
    "            file_path=file_path,\n",
    "            model=model_name,\n",
    "            output_dir=output_dir,\n",
    "            select_pages=select_pages,\n",
    "            system_prompt=system_prompt\n",
    "        ))\n",
    "    except Exception as e:\n",
    "        print(f\"오류가 발생하여 작업을 중단합니다: {e}\")\n",
    "        return\n",
    "\n",
    "    # 4) 결과 출력 (너무 길 경우 파일 저장만 하고 간단히 요약만 보여줄 수도 있음)\n",
    "    print(result)\n",
    "\n",
    "\n",
    "if __name__ == \"__main__\":\n",
    "    main()\n"
   ]
  },
  {
   "cell_type": "code",
   "execution_count": null,
   "metadata": {},
   "outputs": [
    {
     "name": "stdout",
     "output_type": "stream",
     "text": [
      "\u001b[33mWARNING: Running pip as the 'root' user can result in broken permissions and conflicting behaviour with the system package manager, possibly rendering your system unusable. It is recommended to use a virtual environment instead: https://pip.pypa.io/warnings/venv. Use the --root-user-action option if you know what you are doing and want to suppress this warning.\u001b[0m\u001b[33m\n",
      "\u001b[0mNote: you may need to restart the kernel to use updated packages.\n"
     ]
    }
   ],
   "source": [
    "%pip install -q \"unstructured[md]\" nltk"
   ]
  },
  {
   "cell_type": "code",
   "execution_count": 9,
   "metadata": {},
   "outputs": [],
   "source": [
    "from langchain_text_splitters import RecursiveCharacterTextSplitter\n",
    "\n",
    "text_splitter = RecursiveCharacterTextSplitter(\n",
    "    chunk_size=1500,  # 1500자씩 분할\n",
    "    chunk_overlap=100,  # 100자씩 중첩\n",
    "    separators=['\\n\\n', '\\n']\n",
    ")"
   ]
  },
  {
   "cell_type": "code",
   "execution_count": 10,
   "metadata": {},
   "outputs": [],
   "source": [
    "from langchain_community.document_loaders import UnstructuredMarkdownLoader\n",
    "from langchain_core.documents import Document\n",
    "\n",
    "markdown_path = \"./documents/spring_framework_docs.md\"\n",
    "loader = UnstructuredMarkdownLoader(markdown_path)\n",
    "document_list = loader.load_and_split(text_splitter)"
   ]
  },
  {
   "cell_type": "code",
   "execution_count": 11,
   "metadata": {},
   "outputs": [
    {
     "data": {
      "text/plain": [
       "[Document(metadata={'source': './documents/spring_framework_docs.md'}, page_content='스프링 프레임워크 종합 안내서\\n\\n본 문서는 스프링 프레임워크의 기본 개념, 아키텍처, 주요 기능 및 최신 동향을 포함하여 총 10 페이지에 걸쳐 상세하게 설명합니다.\\n\\n서론\\n\\n1. 개요\\n\\n스프링 프레임워크는 자바 플랫폼을 위한 오픈 소스 애플리케이션 프레임워크로, 엔터프라이즈급 애플리케이션 개발을 위한 다양한 기능과 유연한 아키텍처를 제공합니다.\\n\\n역사: 2002년 로드 존슨(Rod Johnson)의 “Expert One-on-One J2EE Design and Development”를 시작으로 등장하였으며, 이후 경량 컨테이너와 객체 지향 프로그래밍 기법을 도입하여 급속히 확산되었습니다.\\n\\n목적: 복잡한 엔터프라이즈 애플리케이션 개발 시 발생하는 결합도 문제를 해소하고, 모듈화 및 재사용성을 높여 개발 생산성을 극대화하는 데 있습니다.\\n\\n2. 스프링의 필요성\\n\\n유연성: 전통적인 J2EE 기반의 복잡한 설정과 구현을 단순화합니다.\\n\\n모듈성: IoC/DI, AOP 등 모듈화를 통해 유저보수를 쉽게 합니다.\\n\\n확장성: 다양한 서브 모듈(웹, 데이터베이스 접근, 보안 등)을 제공하여 복합적인 요구 사항을 충족합니다.\\n\\n참고: Soonggi Tistory\\n\\n핵심 원칙 – IoC 와 DI\\n\\n1. 제어의 역전(IoC, Inversion of Control)\\n\\n개념: 객체의 생성과 의존관계 설정을 개발자가 아닌 스프링 컨테이너가 관리하는 방식입니다.\\n\\n장점: 결합도를 낮추어 코드의 재사용성과 테스트 용이성을 높입니다.\\n\\n2. 의존성 주입(DI, Dependency Injection)\\n\\n정의: 객체가 필요한 의존성을 스프링 컨테이너가 주입해 주는 방식입니다.\\n\\n구현 방식: XML 설정, 애노테이션(@Autowired), 자바 기반 설정(@Configuration)을 통한 DI 제공.\\n\\n예시: 서비스 객체가 DAO 를 직접 생성하지 않고, 외부에서 주입받아 사용함으로써 모듈 간의 의존성을 느슨하게 유지합니다.\\n\\n참고: Outstanding1301 블로그\\n\\n관점 지향 프로그래밍(AOP)\\n\\nAOP의 필요성\\n\\n문제 해결: 로깅, 보안, 트랜잭션 관리와 같이 여러 모듈에 공통적으로 적용되는 기능을 핵심 비즈니스 로직과 분리하여 코드 중복을 줄입니다.\\n\\nAOP의 주요 개념\\n\\n어드바이스(Advice): 공통 기능을 구현하는 코드.\\n\\n포인트컷(Pointcut): 어드바이스가 적용될 지점을 정의.\\n\\n위빙(Weaving): 정의된 포인트컷에 따라 어드바이스를 적용하는 과정.\\n\\n스프링에서의 AOP 활용\\n\\n예시: 트랜잭션 관리, 메소드 실행 전후 로깅, 보안 검증 등을 AOP를 통해 쉽게 구현할 수 있습니다.\\n\\n참고: Soonggi Tistory\\n\\n스프링 모듈 구성\\n\\n스프링 프레임워크는 여러 모듈로 구성되어 있어 필요에 따라 선택적으로 사용할 수 있습니다.\\n\\n코어 컨테이너(Core Container)\\n\\nBeans: 스프링 빈(객체) 관리.\\n\\nContext: 애플리케이션 컨텍스트 제공.\\n\\nCore: IoC와 DI의 기반 제공.'),\n",
       " Document(metadata={'source': './documents/spring_framework_docs.md'}, page_content='코어 컨테이너(Core Container)\\n\\nBeans: 스프링 빈(객체) 관리.\\n\\nContext: 애플리케이션 컨텍스트 제공.\\n\\nCore: IoC와 DI의 기반 제공.\\n\\n데이터 접근 및 통합(Data Access/Integration)\\n\\nJDBC 템플릿: 데이터베이스 접근을 단순화.\\n\\nORM 통합: Hibernate, JPA 와의 통합.\\n\\n트랜잭션 관리: 선언적 및 프로그래밍적 트랜잭션 관리 지원.\\n\\n웹(Web)\\n\\nSpring MVC: 웹 애플리케이션의 모델-뷰-컨트롤러(MVC) 패턴 구현.\\n\\nREST 지원: RESTful 웹 서비스 개발 지원.\\n\\n기타 모듈\\n\\nAOP: 앞서 설명한 관점 지향 프로그래밍 지원.\\n\\n메시징: 이벤트 기반 애플리케이션 개발 지원.\\n\\n테스트: 단위 테스트와 통합 테스트 지원.\\n\\n참고: Velog\\n\\n스프링 MVC 아키텍처\\n\\n개요\\n\\n스프링 MVC는 웹 애플리케이션 개발을 위한 프레임워크로, 클라이언트의 요청을 효과적으로 처리하기 위한 모델-뷰-컨트롤러 패턴을 따릅니다.\\n\\n구성 요소\\n\\nDispatcherServlet: 모든 요청을 중앙에서 받아서 처리하고, 해당 컨트롤러로 요청을 전달합니다.\\n\\nController: 비즈니스 로직을 처리하고, 모델 데이터를 생성하여 뷰에 전달합니다.\\n\\nView Resolver: 컨트롤러에서 전달받은 모델 데이터를 기반으로 실제 뷰(JSP, Thymeleaf 등)를 렌더링합니다.\\n\\nHandler Mapping: 요청 URL을 적절한 컨트롤러에 매핑하는 역할을 합니다.\\n\\n특징\\n\\n유연성: 다양한 뷰 기술과의 통합이 용이합니다.\\n\\n확장성: 요청 처리 파이프라인을 커스터마이징할 수 있습니다.\\n\\n참고: OutStanding1301 블로그\\n\\n데이터 접근 및 트랜잭션 관리\\n\\n데이터 접근\\n\\nJDBC 템플릿: 반복되는 JDBC 코드(커넥션, PreparedStatement 등)를 추상화하여 개발자가 비즈니스 로직에 집중할 수 있도록 도와줍니다.\\n\\nORM 통합: 스프링은 Hibernate, JPA, MyBatis 등 다양한 ORM 프레임워크와 원활하게 통합됩니다.\\n\\n트랜잭션 관리\\n\\n선언적 트랜잭션 관리: 애노테이션(@Transactional)이나 XML 설정을 통해 트랜잭션 경계를 정의할 수 있습니다.\\n\\n프로그래밍적 트랜잭션 관리: 코드 내에서 직접 트랜잭션을 제어하는 방법도 제공합니다.\\n\\n장점: 에러 발생 시 자동 롤백 및 트랜잭션 일관성 유지가 가능합니다.\\n\\n참고: Velog\\n\\n확장 기능 및 보안\\n\\n스프링 시큐리티(Spring Security)\\n\\n기능: 인증, 인가, 암호화 등을 통해 애플리케이션 보안을 강화합니다.\\n\\n특징: 필터 체인을 기반으로 하여 유연한 보안 설정을 지원합니다.\\n\\n메세징 및 이벤트\\n\\n메세징: JMS, RabbitMQ 등과의 통합을 통해 비동기 메세징을 지원합니다.\\n\\n이벤트: 스프링의 이벤트 발행/구독 모델을 통해 애플리케이션 간의 느슨한 결합을 구현할 수 있습니다.\\n\\n기타 확장 기능\\n\\n캐싱: 스프링은 다양한 캐시 추상화 기능을 제공하여 애플리케이션 성능을 향상시킵니다.'),\n",
       " Document(metadata={'source': './documents/spring_framework_docs.md'}, page_content='기타 확장 기능\\n\\n캐싱: 스프링은 다양한 캐시 추상화 기능을 제공하여 애플리케이션 성능을 향상시킵니다.\\n\\n스케줄링: 정기적 작업 스케줄링을 위한 기능을 내장하고 있습니다.\\n\\n참고: OutStanding1301 블로그\\n\\n스프링 부트와 마이크로서비스\\n\\n스프링 부트(Spring Boot)\\n\\n목적: 스프링 기반 애플리케이션의 초기 설정과 구성을 단순화하여, 개발자가 빠르게 시작할 수 있도록 지원합니다.\\n\\n특징:\\n\\n자동 구성(Auto-Configuration): 환경에 맞는 기본 설정을 자동으로 적용합니다.\\n\\n내장 서버: Tomcat, Jetty 등의 내장 서버를 사용해 별도의 서버 설정 없이 애플리케이션 실행이 가능합니다.\\n\\n스타터 패키지: 다양한 기능을 손쉽게 추가할 수 있도록 스타터 의존성을 제공합니다.\\n\\n마이크로서비스 아키텍처\\n\\n스프링 클라우드: 분산 환경에서의 마이크로서비스 구축을 위한 다양한 도구(서비스 등록, 구성 관리, API 게이트웨이 등)를 제공합니다.\\n\\n장점: 개별 서비스의 독립적 배포 및 확장이 가능하며, 대규모 시스템을 유연하게 관리할 수 있습니다.\\n\\n참고: Spring Boot 공식 문서\\n\\n결론 및 향후 전망\\n\\n결론\\n\\n스프링 프레임워크는 자바 기반 애플리케이션 개발에 있어 유연성과 확장성을 극대화하는 강력한 도구입니다.\\n\\n주요 강점: IoC/DI, AOP를 통한 모듈화, 다양한 서브 모듈 제공\\n\\n활용 분야: 엔터프라이즈 애플리케이션, 웹 애플리케이션, 마이크로서비스 아키텍처 등\\n\\n향후 전망\\n\\n클라우드 네이티브: 스프링 부트와 스프링 클라우드를 통한 클라우드 환경 대응 강화\\n\\n개발 생산성: 지속적인 업데이트와 커뮤니티의 활발한 기여를 통해 개발 생산성이 향상될 전망\\n\\n보안 및 확장: 스프링 시큐리티, 캐싱 등 다양한 확장 기능이 앞으로도 발전할 것으로 예상됩니다.\\n\\n참고 자료 및 추가 학습\\n\\n공식 문서: Spring Framework Reference Documentation\\n\\n온라인 강의: 다양한 온라인 플랫폼에서 제공하는 스프링 강좌\\n\\n커뮤니티: GitHub, Stack Overflow, 블로그 및 포럼 등에서 최신 정보를 확인\\n\\n마무리\\n\\n이 문서는 스프링 프레임워크의 전반적인 내용을 10페이지 분량으로 구성하였으며, 각 페이지마다 핵심 개념과 모듈, 그리고 최신 동향을 포함하여 정리하였습니다. 추가적인 세부 사항이나 최신 정보는 위의 참고 자료를 통해 지속적으로 업데이트 하실 수 있습니다.')]"
      ]
     },
     "execution_count": 11,
     "metadata": {},
     "output_type": "execute_result"
    }
   ],
   "source": [
    "document_list"
   ]
  },
  {
   "cell_type": "code",
   "execution_count": null,
   "metadata": {},
   "outputs": [
    {
     "name": "stdout",
     "output_type": "stream",
     "text": [
      "\u001b[33mWARNING: Running pip as the 'root' user can result in broken permissions and conflicting behaviour with the system package manager, possibly rendering your system unusable. It is recommended to use a virtual environment instead: https://pip.pypa.io/warnings/venv. Use the --root-user-action option if you know what you are doing and want to suppress this warning.\u001b[0m\u001b[33m\n",
      "\u001b[0mNote: you may need to restart the kernel to use updated packages.\n"
     ]
    }
   ],
   "source": [
    "%pip install -q markdown html2text beautifulsoup4"
   ]
  },
  {
   "cell_type": "code",
   "execution_count": null,
   "metadata": {},
   "outputs": [
    {
     "name": "stdout",
     "output_type": "stream",
     "text": [
      "Markdown converted to plain text successfully!\n"
     ]
    }
   ],
   "source": [
    "import markdown\n",
    "from bs4 import BeautifulSoup\n",
    "\n",
    "# 마크다운 파일 경로\n",
    "markdown_path = './documents/spring_framework_docs.md'\n",
    "# 변환된 텍스트를 저장할 파일 경로\n",
    "text_path = './documents/spring_framework_docs.txt'\n",
    "\n",
    "# 마크다운 파일을 읽어옵니다\n",
    "with open(markdown_path, 'r', encoding='utf-8') as md_file:\n",
    "    md_content = md_file.read()\n",
    "\n",
    "# 마크다운 콘텐츠를 HTML로 변환합니다\n",
    "html_content = markdown.markdown(md_content)\n",
    "\n",
    "# HTML 콘텐츠를 파싱하여 텍스트만 추출합니다\n",
    "soup = BeautifulSoup(html_content, 'html.parser')\n",
    "text_content = soup.get_text()\n",
    "\n",
    "# 추출한 텍스트를 텍스트 파일로 저장합니다\n",
    "with open(text_path, 'w', encoding='utf-8') as txt_file:\n",
    "    txt_file.write(text_content)\n",
    "\n",
    "print(\"Markdown converted to plain text successfully!\")\n"
   ]
  },
  {
   "cell_type": "code",
   "execution_count": 14,
   "metadata": {},
   "outputs": [],
   "source": [
    "from langchain_community.document_loaders import TextLoader\n",
    "\n",
    "loader = TextLoader(text_path, encoding=\"utf-8\")\n",
    "document_list = loader.load_and_split(text_splitter)"
   ]
  },
  {
   "cell_type": "code",
   "execution_count": null,
   "metadata": {},
   "outputs": [
    {
     "name": "stdout",
     "output_type": "stream",
     "text": [
      "\u001b[33mWARNING: Running pip as the 'root' user can result in broken permissions and conflicting behaviour with the system package manager, possibly rendering your system unusable. It is recommended to use a virtual environment instead: https://pip.pypa.io/warnings/venv. Use the --root-user-action option if you know what you are doing and want to suppress this warning.\u001b[0m\u001b[33m\n",
      "\u001b[0mNote: you may need to restart the kernel to use updated packages.\n"
     ]
    }
   ],
   "source": [
    "%pip install -q langchain-chroma"
   ]
  },
  {
   "cell_type": "code",
   "execution_count": 16,
   "metadata": {},
   "outputs": [],
   "source": [
    "from langchain_openai import OpenAIEmbeddings\n",
    "\n",
    "embeddings = OpenAIEmbeddings(model='text-embedding-3-large')"
   ]
  },
  {
   "cell_type": "code",
   "execution_count": 17,
   "metadata": {},
   "outputs": [],
   "source": [
    "from langchain_chroma import Chroma\n",
    "\n",
    "vector_store = Chroma.from_documents(\n",
    "    documents=document_list,\n",
    "    embedding=embeddings,\n",
    "    collection_name='spring_framework_docs',\n",
    "    persist_directory='./spring_framework_docs'\n",
    ")"
   ]
  },
  {
   "cell_type": "code",
   "execution_count": 18,
   "metadata": {},
   "outputs": [],
   "source": [
    "retriever = vector_store.as_retriever(search_kwargs={'k': 3})"
   ]
  },
  {
   "cell_type": "code",
   "execution_count": 19,
   "metadata": {},
   "outputs": [],
   "source": [
    "query = \"스프링 프레임워크란?\""
   ]
  },
  {
   "cell_type": "code",
   "execution_count": null,
   "metadata": {},
   "outputs": [
    {
     "data": {
      "text/plain": [
       "[Document(id='74d4a601-e19c-4c70-b493-2fa406e6a210', metadata={'source': './documents/spring_framework_docs.txt'}, page_content='이벤트: 스프링의 이벤트 발행/구독 모델을 통해 애플리케이션 간의 느슨한 결합을 구현할 수 있습니다.\\n\\n\\n기타 확장 기능\\n\\n\\n캐싱: 스프링은 다양한 캐시 추상화 기능을 제공하여 애플리케이션 성능을 향상시킵니다.\\n\\n스케줄링: 정기적 작업 스케줄링을 위한 기능을 내장하고 있습니다.\\n\\n참고: OutStanding1301 블로그\\n스프링 부트와 마이크로서비스\\n\\n\\n스프링 부트(Spring Boot)\\n\\n\\n목적: 스프링 기반 애플리케이션의 초기 설정과 구성을 단순화하여, 개발자가 빠르게 시작할 수 있도록 지원합니다.\\n\\n특징:\\n자동 구성(Auto-Configuration): 환경에 맞는 기본 설정을 자동으로 적용합니다.\\n내장 서버: Tomcat, Jetty 등의 내장 서버를 사용해 별도의 서버 설정 없이 애플리케이션 실행이 가능합니다.\\n\\n스타터 패키지: 다양한 기능을 손쉽게 추가할 수 있도록 스타터 의존성을 제공합니다.\\n\\n\\n마이크로서비스 아키텍처\\n\\n\\n스프링 클라우드: 분산 환경에서의 마이크로서비스 구축을 위한 다양한 도구(서비스 등록, 구성 관리, API 게이트웨이 등)를 제공합니다.\\n\\n장점: 개별 서비스의 독립적 배포 및 확장이 가능하며, 대규모 시스템을 유연하게 관리할 수 있습니다.\\n\\n참고: Spring Boot 공식 문서\\n결론 및 향후 전망\\n\\n결론\\n\\n스프링 프레임워크는 자바 기반 애플리케이션 개발에 있어 유연성과 확장성을 극대화하는 강력한 도구입니다.\\n\\n주요 강점: IoC/DI, AOP를 통한 모듈화, 다양한 서브 모듈 제공\\n\\n활용 분야: 엔터프라이즈 애플리케이션, 웹 애플리케이션, 마이크로서비스 아키텍처 등\\n\\n\\n향후 전망\\n\\n\\n클라우드 네이티브: 스프링 부트와 스프링 클라우드를 통한 클라우드 환경 대응 강화\\n\\n개발 생산성: 지속적인 업데이트와 커뮤니티의 활발한 기여를 통해 개발 생산성이 향상될 전망\\n\\n보안 및 확장: 스프링 시큐리티, 캐싱 등 다양한 확장 기능이 앞으로도 발전할 것으로 예상됩니다.\\n\\n\\n참고 자료 및 추가 학습\\n\\n\\n공식 문서: Spring Framework Reference Documentation\\n\\n\\n온라인 강의: 다양한 온라인 플랫폼에서 제공하는 스프링 강좌\\n\\n\\n커뮤니티: GitHub, Stack Overflow, 블로그 및 포럼 등에서 최신 정보를 확인\\n\\n\\n\\n마무리\\n이 문서는 스프링 프레임워크의 전반적인 내용을 10페이지 분량으로 구성하였으며, 각 페이지마다 핵심 개념과 모듈, 그리고 최신 동향을 포함하여 정리하였습니다.\\n추가적인 세부 사항이나 최신 정보는 위의 참고 자료를 통해 지속적으로 업데이트 하실 수 있습니다.'),\n",
       " Document(id='f9ac33c1-53ed-471c-a54c-0f782bddd224', metadata={'source': './documents/spring_framework_docs.txt'}, page_content='스프링 프레임워크 종합 안내서\\n본 문서는 스프링 프레임워크의 기본 개념, 아키텍처, 주요 기능 및 최신 동향을 포함하여 총 10 페이지에 걸쳐 상세하게 설명합니다.\\n서론\\n1. 개요\\n스프링 프레임워크는 자바 플랫폼을 위한 오픈 소스 애플리케이션 프레임워크로, 엔터프라이즈급 애플리케이션 개발을 위한 다양한 기능과 유연한 아키텍처를 제공합니다.\\n\\n역사: 2002년 로드 존슨(Rod Johnson)의 “Expert One-on-One J2EE Design and Development”를 시작으로 등장하였으며, 이후 경량 컨테이너와 객체 지향 프로그래밍 기법을 도입하여 급속히 확산되었습니다.\\n목적: 복잡한 엔터프라이즈 애플리케이션 개발 시 발생하는 결합도 문제를 해소하고, 모듈화 및 재사용성을 높여 개발 생산성을 극대화하는 데 있습니다.\\n\\n2. 스프링의 필요성\\n\\n유연성: 전통적인 J2EE 기반의 복잡한 설정과 구현을 단순화합니다.\\n모듈성: IoC/DI, AOP 등 모듈화를 통해 유저보수를 쉽게 합니다.\\n확장성: 다양한 서브 모듈(웹, 데이터베이스 접근, 보안 등)을 제공하여 복합적인 요구 사항을 충족합니다.\\n\\n참고: Soonggi Tistory\\n핵심 원칙 – IoC 와 DI\\n1. 제어의 역전(IoC, Inversion of Control)\\n\\n개념: 객체의 생성과 의존관계 설정을 개발자가 아닌 스프링 컨테이너가 관리하는 방식입니다.\\n장점: 결합도를 낮추어 코드의 재사용성과 테스트 용이성을 높입니다.\\n\\n2. 의존성 주입(DI, Dependency Injection)\\n\\n정의: 객체가 필요한 의존성을 스프링 컨테이너가 주입해 주는 방식입니다.\\n구현 방식: XML 설정, 애노테이션(@Autowired), 자바 기반 설정(@Configuration)을 통한 DI 제공.\\n예시: 서비스 객체가 DAO 를 직접 생성하지 않고, 외부에서 주입받아 사용함으로써 모듈 간의 의존성을 느슨하게 유지합니다.\\n\\n참고: Outstanding1301 블로그\\n관점 지향 프로그래밍(AOP)\\n\\n\\nAOP의 필요성\\n\\n\\n문제 해결: 로깅, 보안, 트랜잭션 관리와 같이 여러 모듈에 공통적으로 적용되는 기능을 핵심 비즈니스 로직과 분리하여 코드 중복을 줄입니다.\\n\\n\\nAOP의 주요 개념\\n\\n\\n어드바이스(Advice): 공통 기능을 구현하는 코드.\\n\\n포인트컷(Pointcut): 어드바이스가 적용될 지점을 정의.\\n\\n위빙(Weaving): 정의된 포인트컷에 따라 어드바이스를 적용하는 과정.\\n\\n\\n스프링에서의 AOP 활용\\n\\n\\n예시: 트랜잭션 관리, 메소드 실행 전후 로깅, 보안 검증 등을 AOP를 통해 쉽게 구현할 수 있습니다.\\n\\n\\n참고: Soonggi Tistory\\n스프링 모듈 구성\\n스프링 프레임워크는 여러 모듈로 구성되어 있어 필요에 따라 선택적으로 사용할 수 있습니다.\\n\\n\\n코어 컨테이너(Core Container)\\n\\n\\nBeans: 스프링 빈(객체) 관리.\\n\\nContext: 애플리케이션 컨텍스트 제공.\\n\\nCore: IoC와 DI의 기반 제공.'),\n",
       " Document(id='0295548b-e8fc-4310-b212-6db316d35499', metadata={'source': './documents/spring_framework_docs.txt'}, page_content='코어 컨테이너(Core Container)\\n\\n\\nBeans: 스프링 빈(객체) 관리.\\n\\nContext: 애플리케이션 컨텍스트 제공.\\n\\nCore: IoC와 DI의 기반 제공.\\n\\n\\n데이터 접근 및 통합(Data Access/Integration)\\n\\n\\nJDBC 템플릿: 데이터베이스 접근을 단순화.\\n\\n\\nORM 통합: Hibernate, JPA 와의 통합.\\n\\n\\n트랜잭션 관리: 선언적 및 프로그래밍적 트랜잭션 관리 지원.\\n\\n\\n웹(Web)\\n\\n\\nSpring MVC: 웹 애플리케이션의 모델-뷰-컨트롤러(MVC) 패턴 구현.\\n\\n\\nREST 지원: RESTful 웹 서비스 개발 지원.\\n\\n\\n기타 모듈\\n\\n\\nAOP: 앞서 설명한 관점 지향 프로그래밍 지원.\\n\\n메시징: 이벤트 기반 애플리케이션 개발 지원.\\n테스트: 단위 테스트와 통합 테스트 지원.\\n\\n참고: Velog\\n스프링 MVC 아키텍처\\n\\n개요\\n\\n스프링 MVC는 웹 애플리케이션 개발을 위한 프레임워크로, 클라이언트의 요청을 효과적으로 처리하기 위한 모델-뷰-컨트롤러 패턴을 따릅니다.\\n\\n\\n구성 요소\\n\\n\\nDispatcherServlet: 모든 요청을 중앙에서 받아서 처리하고, 해당 컨트롤러로 요청을 전달합니다.\\n\\nController: 비즈니스 로직을 처리하고, 모델 데이터를 생성하여 뷰에 전달합니다.\\nView Resolver: 컨트롤러에서 전달받은 모델 데이터를 기반으로 실제 뷰(JSP, Thymeleaf 등)를 렌더링합니다.\\n\\nHandler Mapping: 요청 URL을 적절한 컨트롤러에 매핑하는 역할을 합니다.\\n\\n\\n특징\\n\\n\\n유연성: 다양한 뷰 기술과의 통합이 용이합니다.\\n\\n확장성: 요청 처리 파이프라인을 커스터마이징할 수 있습니다.\\n\\n참고: OutStanding1301 블로그\\n데이터 접근 및 트랜잭션 관리\\n\\n\\n데이터 접근\\n\\n\\nJDBC 템플릿: 반복되는 JDBC 코드(커넥션, PreparedStatement 등)를 추상화하여 개발자가 비즈니스 로직에 집중할 수 있도록 도와줍니다.\\n\\n\\nORM 통합: 스프링은 Hibernate, JPA, MyBatis 등 다양한 ORM 프레임워크와 원활하게 통합됩니다.\\n\\n\\n트랜잭션 관리\\n\\n\\n선언적 트랜잭션 관리: 애노테이션(@Transactional)이나 XML 설정을 통해 트랜잭션 경계를 정의할 수 있습니다.\\n\\n프로그래밍적 트랜잭션 관리: 코드 내에서 직접 트랜잭션을 제어하는 방법도 제공합니다.\\n장점: 에러 발생 시 자동 롤백 및 트랜잭션 일관성 유지가 가능합니다.\\n\\n참고: Velog\\n확장 기능 및 보안\\n\\n\\n스프링 시큐리티(Spring Security)\\n\\n\\n기능: 인증, 인가, 암호화 등을 통해 애플리케이션 보안을 강화합니다.\\n\\n\\n특징: 필터 체인을 기반으로 하여 유연한 보안 설정을 지원합니다.\\n\\n\\n메세징 및 이벤트\\n\\n\\n메세징: JMS, RabbitMQ 등과의 통합을 통해 비동기 메세징을 지원합니다.\\n\\n\\n이벤트: 스프링의 이벤트 발행/구독 모델을 통해 애플리케이션 간의 느슨한 결합을 구현할 수 있습니다.\\n\\n\\n기타 확장 기능')]"
      ]
     },
     "execution_count": 20,
     "metadata": {},
     "output_type": "execute_result"
    }
   ],
   "source": [
    "# 질문과 가장 유사한 문서 3개를 검색\n",
    "retriever.invoke(query)"
   ]
  },
  {
   "cell_type": "code",
   "execution_count": 21,
   "metadata": {},
   "outputs": [],
   "source": [
    "from typing_extensions import List, TypedDict\n",
    "\n",
    "class AgentState(TypedDict):\n",
    "    query: str\n",
    "    context: List[Document]\n",
    "    answer: str"
   ]
  },
  {
   "cell_type": "code",
   "execution_count": 22,
   "metadata": {},
   "outputs": [],
   "source": [
    "from langgraph.graph import StateGraph\n",
    "\n",
    "graph_builder = StateGraph(AgentState)"
   ]
  },
  {
   "cell_type": "code",
   "execution_count": 23,
   "metadata": {},
   "outputs": [],
   "source": [
    "# Node는 2가지가 필요\n",
    "# 1. 문서를 가져오는 retrieve\n",
    "# 2. 답변을 생성하는 generate\n",
    "\n",
    "def retrieve(state: AgentState):\n",
    "    query = state['query']\n",
    "    docs = retriever.invoke(query)\n",
    "    return {'context': docs}"
   ]
  },
  {
   "cell_type": "code",
   "execution_count": 24,
   "metadata": {},
   "outputs": [],
   "source": [
    "# set the LANGSMITH_API_KEY environment variable (create key in settings)\n",
    "from langchain import hub\n",
    "from langchain_openai import ChatOpenAI\n",
    "\n",
    "prompt = hub.pull(\"rlm/rag-prompt\")\n",
    "llm = ChatOpenAI(model='gpt-4o')"
   ]
  },
  {
   "cell_type": "code",
   "execution_count": 25,
   "metadata": {},
   "outputs": [],
   "source": [
    "def generate(state: AgentState):\n",
    "    context = state['context']\n",
    "    query = state['query']\n",
    "    rag_chain = prompt | llm\n",
    "    response = rag_chain.invoke({'question': query, 'context': context})\n",
    "    response = llm.invoke(query, context)\n",
    "    return {'answer': response.content}"
   ]
  },
  {
   "cell_type": "code",
   "execution_count": 26,
   "metadata": {},
   "outputs": [
    {
     "data": {
      "text/plain": [
       "<langgraph.graph.state.StateGraph at 0x7fd38eba2510>"
      ]
     },
     "execution_count": 26,
     "metadata": {},
     "output_type": "execute_result"
    }
   ],
   "source": [
    "graph_builder.add_node('retrieve', retrieve)\n",
    "graph_builder.add_node('generate', generate)"
   ]
  },
  {
   "cell_type": "code",
   "execution_count": 27,
   "metadata": {},
   "outputs": [
    {
     "data": {
      "text/plain": [
       "<langgraph.graph.state.StateGraph at 0x7fd38eba2510>"
      ]
     },
     "execution_count": 27,
     "metadata": {},
     "output_type": "execute_result"
    }
   ],
   "source": [
    "from langgraph.graph import START, END\n",
    "\n",
    "graph_builder.add_edge(START, 'retrieve')\n",
    "graph_builder.add_edge('retrieve', 'generate')\n",
    "graph_builder.add_edge('generate', END)"
   ]
  },
  {
   "cell_type": "code",
   "execution_count": 28,
   "metadata": {},
   "outputs": [],
   "source": [
    "graph = graph_builder.compile()"
   ]
  },
  {
   "cell_type": "code",
   "execution_count": null,
   "metadata": {},
   "outputs": [
    {
     "data": {
      "image/png": "[encoded data removed]",
      "text/plain": [
       "<IPython.core.display.Image object>"
      ]
     },
     "metadata": {},
     "output_type": "display_data"
    }
   ],
   "source": [
    "from IPython.display import Image, display\n",
    "\n",
    "display(Image(graph.get_graph().draw_mermaid_png()))"
   ]
  },
  {
   "cell_type": "code",
   "execution_count": 30,
   "metadata": {},
   "outputs": [],
   "source": [
    "sequence_graph_builder = StateGraph(AgentState).add_sequence([retrieve, generate])"
   ]
  },
  {
   "cell_type": "code",
   "execution_count": 31,
   "metadata": {},
   "outputs": [
    {
     "data": {
      "text/plain": [
       "<langgraph.graph.state.StateGraph at 0x7fd38edd5910>"
      ]
     },
     "execution_count": 31,
     "metadata": {},
     "output_type": "execute_result"
    }
   ],
   "source": [
    "sequence_graph_builder.add_edge(START, 'retrieve')\n",
    "sequence_graph_builder.add_edge('generate', END)"
   ]
  },
  {
   "cell_type": "code",
   "execution_count": 32,
   "metadata": {},
   "outputs": [],
   "source": [
    "sequence_graph = sequence_graph_builder.compile()"
   ]
  },
  {
   "cell_type": "code",
   "execution_count": null,
   "metadata": {},
   "outputs": [
    {
     "data": {
      "image/png": "[encoded data removed]",
      "text/plain": [
       "<IPython.core.display.Image object>"
      ]
     },
     "metadata": {},
     "output_type": "display_data"
    }
   ],
   "source": [
    "display(Image(graph.get_graph().draw_mermaid_png()))"
   ]
  },
  {
   "cell_type": "code",
   "execution_count": 35,
   "metadata": {},
   "outputs": [
    {
     "ename": "AttributeError",
     "evalue": "'list' object has no attribute 'items'",
     "output_type": "error",
     "traceback": [
      "\u001b[0;31m---------------------------------------------------------------------------\u001b[0m",
      "\u001b[0;31mAttributeError\u001b[0m                            Traceback (most recent call last)",
      "Cell \u001b[0;32mIn[35], line 2\u001b[0m\n\u001b[1;32m      1\u001b[0m initial_state \u001b[38;5;241m=\u001b[39m {\u001b[38;5;124m'\u001b[39m\u001b[38;5;124mquery\u001b[39m\u001b[38;5;124m'\u001b[39m: query}\n\u001b[0;32m----> 2\u001b[0m \u001b[43msequence_graph\u001b[49m\u001b[38;5;241;43m.\u001b[39;49m\u001b[43minvoke\u001b[49m\u001b[43m(\u001b[49m\u001b[43minitial_state\u001b[49m\u001b[43m)\u001b[49m\n",
      "File \u001b[0;32m~/.pyenv/versions/3.11.2/lib/python3.11/site-packages/langgraph/pregel/__init__.py:2069\u001b[0m, in \u001b[0;36mPregel.invoke\u001b[0;34m(self, input, config, stream_mode, output_keys, interrupt_before, interrupt_after, debug, **kwargs)\u001b[0m\n\u001b[1;32m   2067\u001b[0m \u001b[38;5;28;01melse\u001b[39;00m:\n\u001b[1;32m   2068\u001b[0m     chunks \u001b[38;5;241m=\u001b[39m []\n\u001b[0;32m-> 2069\u001b[0m \u001b[43m\u001b[49m\u001b[38;5;28;43;01mfor\u001b[39;49;00m\u001b[43m \u001b[49m\u001b[43mchunk\u001b[49m\u001b[43m \u001b[49m\u001b[38;5;129;43;01min\u001b[39;49;00m\u001b[43m \u001b[49m\u001b[38;5;28;43mself\u001b[39;49m\u001b[38;5;241;43m.\u001b[39;49m\u001b[43mstream\u001b[49m\u001b[43m(\u001b[49m\n\u001b[1;32m   2070\u001b[0m \u001b[43m    \u001b[49m\u001b[38;5;28;43minput\u001b[39;49m\u001b[43m,\u001b[49m\n\u001b[1;32m   2071\u001b[0m \u001b[43m    \u001b[49m\u001b[43mconfig\u001b[49m\u001b[43m,\u001b[49m\n\u001b[1;32m   2072\u001b[0m \u001b[43m    \u001b[49m\u001b[43mstream_mode\u001b[49m\u001b[38;5;241;43m=\u001b[39;49m\u001b[43mstream_mode\u001b[49m\u001b[43m,\u001b[49m\n\u001b[1;32m   2073\u001b[0m \u001b[43m    \u001b[49m\u001b[43moutput_keys\u001b[49m\u001b[38;5;241;43m=\u001b[39;49m\u001b[43moutput_keys\u001b[49m\u001b[43m,\u001b[49m\n\u001b[1;32m   2074\u001b[0m \u001b[43m    \u001b[49m\u001b[43minterrupt_before\u001b[49m\u001b[38;5;241;43m=\u001b[39;49m\u001b[43minterrupt_before\u001b[49m\u001b[43m,\u001b[49m\n\u001b[1;32m   2075\u001b[0m \u001b[43m    \u001b[49m\u001b[43minterrupt_after\u001b[49m\u001b[38;5;241;43m=\u001b[39;49m\u001b[43minterrupt_after\u001b[49m\u001b[43m,\u001b[49m\n\u001b[1;32m   2076\u001b[0m \u001b[43m    \u001b[49m\u001b[43mdebug\u001b[49m\u001b[38;5;241;43m=\u001b[39;49m\u001b[43mdebug\u001b[49m\u001b[43m,\u001b[49m\n\u001b[1;32m   2077\u001b[0m \u001b[43m    \u001b[49m\u001b[38;5;241;43m*\u001b[39;49m\u001b[38;5;241;43m*\u001b[39;49m\u001b[43mkwargs\u001b[49m\u001b[43m,\u001b[49m\n\u001b[1;32m   2078\u001b[0m \u001b[43m\u001b[49m\u001b[43m)\u001b[49m\u001b[43m:\u001b[49m\n\u001b[1;32m   2079\u001b[0m \u001b[43m    \u001b[49m\u001b[38;5;28;43;01mif\u001b[39;49;00m\u001b[43m \u001b[49m\u001b[43mstream_mode\u001b[49m\u001b[43m \u001b[49m\u001b[38;5;241;43m==\u001b[39;49m\u001b[43m \u001b[49m\u001b[38;5;124;43m\"\u001b[39;49m\u001b[38;5;124;43mvalues\u001b[39;49m\u001b[38;5;124;43m\"\u001b[39;49m\u001b[43m:\u001b[49m\n\u001b[1;32m   2080\u001b[0m \u001b[43m        \u001b[49m\u001b[43mlatest\u001b[49m\u001b[43m \u001b[49m\u001b[38;5;241;43m=\u001b[39;49m\u001b[43m \u001b[49m\u001b[43mchunk\u001b[49m\n",
      "File \u001b[0;32m~/.pyenv/versions/3.11.2/lib/python3.11/site-packages/langgraph/pregel/__init__.py:1724\u001b[0m, in \u001b[0;36mPregel.stream\u001b[0;34m(self, input, config, stream_mode, output_keys, interrupt_before, interrupt_after, debug, subgraphs)\u001b[0m\n\u001b[1;32m   1718\u001b[0m     \u001b[38;5;66;03m# Similarly to Bulk Synchronous Parallel / Pregel model\u001b[39;00m\n\u001b[1;32m   1719\u001b[0m     \u001b[38;5;66;03m# computation proceeds in steps, while there are channel updates.\u001b[39;00m\n\u001b[1;32m   1720\u001b[0m     \u001b[38;5;66;03m# Channel updates from step N are only visible in step N+1\u001b[39;00m\n\u001b[1;32m   1721\u001b[0m     \u001b[38;5;66;03m# channels are guaranteed to be immutable for the duration of the step,\u001b[39;00m\n\u001b[1;32m   1722\u001b[0m     \u001b[38;5;66;03m# with channel updates applied only at the transition between steps.\u001b[39;00m\n\u001b[1;32m   1723\u001b[0m     \u001b[38;5;28;01mwhile\u001b[39;00m loop\u001b[38;5;241m.\u001b[39mtick(input_keys\u001b[38;5;241m=\u001b[39m\u001b[38;5;28mself\u001b[39m\u001b[38;5;241m.\u001b[39minput_channels):\n\u001b[0;32m-> 1724\u001b[0m \u001b[43m        \u001b[49m\u001b[38;5;28;43;01mfor\u001b[39;49;00m\u001b[43m \u001b[49m\u001b[43m_\u001b[49m\u001b[43m \u001b[49m\u001b[38;5;129;43;01min\u001b[39;49;00m\u001b[43m \u001b[49m\u001b[43mrunner\u001b[49m\u001b[38;5;241;43m.\u001b[39;49m\u001b[43mtick\u001b[49m\u001b[43m(\u001b[49m\n\u001b[1;32m   1725\u001b[0m \u001b[43m            \u001b[49m\u001b[43mloop\u001b[49m\u001b[38;5;241;43m.\u001b[39;49m\u001b[43mtasks\u001b[49m\u001b[38;5;241;43m.\u001b[39;49m\u001b[43mvalues\u001b[49m\u001b[43m(\u001b[49m\u001b[43m)\u001b[49m\u001b[43m,\u001b[49m\n\u001b[1;32m   1726\u001b[0m \u001b[43m            \u001b[49m\u001b[43mtimeout\u001b[49m\u001b[38;5;241;43m=\u001b[39;49m\u001b[38;5;28;43mself\u001b[39;49m\u001b[38;5;241;43m.\u001b[39;49m\u001b[43mstep_timeout\u001b[49m\u001b[43m,\u001b[49m\n\u001b[1;32m   1727\u001b[0m \u001b[43m            \u001b[49m\u001b[43mretry_policy\u001b[49m\u001b[38;5;241;43m=\u001b[39;49m\u001b[38;5;28;43mself\u001b[39;49m\u001b[38;5;241;43m.\u001b[39;49m\u001b[43mretry_policy\u001b[49m\u001b[43m,\u001b[49m\n\u001b[1;32m   1728\u001b[0m \u001b[43m            \u001b[49m\u001b[43mget_waiter\u001b[49m\u001b[38;5;241;43m=\u001b[39;49m\u001b[43mget_waiter\u001b[49m\u001b[43m,\u001b[49m\n\u001b[1;32m   1729\u001b[0m \u001b[43m        \u001b[49m\u001b[43m)\u001b[49m\u001b[43m:\u001b[49m\n\u001b[1;32m   1730\u001b[0m \u001b[43m            \u001b[49m\u001b[38;5;66;43;03m# emit output\u001b[39;49;00m\n\u001b[1;32m   1731\u001b[0m \u001b[43m            \u001b[49m\u001b[38;5;28;43;01myield from\u001b[39;49;00m\u001b[43m \u001b[49m\u001b[43moutput\u001b[49m\u001b[43m(\u001b[49m\u001b[43m)\u001b[49m\n\u001b[1;32m   1732\u001b[0m \u001b[38;5;66;03m# emit output\u001b[39;00m\n",
      "File \u001b[0;32m~/.pyenv/versions/3.11.2/lib/python3.11/site-packages/langgraph/pregel/runner.py:230\u001b[0m, in \u001b[0;36mPregelRunner.tick\u001b[0;34m(self, tasks, reraise, timeout, retry_policy, get_waiter)\u001b[0m\n\u001b[1;32m    228\u001b[0m t \u001b[38;5;241m=\u001b[39m tasks[\u001b[38;5;241m0\u001b[39m]\n\u001b[1;32m    229\u001b[0m \u001b[38;5;28;01mtry\u001b[39;00m:\n\u001b[0;32m--> 230\u001b[0m     \u001b[43mrun_with_retry\u001b[49m\u001b[43m(\u001b[49m\n\u001b[1;32m    231\u001b[0m \u001b[43m        \u001b[49m\u001b[43mt\u001b[49m\u001b[43m,\u001b[49m\n\u001b[1;32m    232\u001b[0m \u001b[43m        \u001b[49m\u001b[43mretry_policy\u001b[49m\u001b[43m,\u001b[49m\n\u001b[1;32m    233\u001b[0m \u001b[43m        \u001b[49m\u001b[43mconfigurable\u001b[49m\u001b[38;5;241;43m=\u001b[39;49m\u001b[43m{\u001b[49m\n\u001b[1;32m    234\u001b[0m \u001b[43m            \u001b[49m\u001b[43mCONFIG_KEY_SEND\u001b[49m\u001b[43m:\u001b[49m\u001b[43m \u001b[49m\u001b[43mpartial\u001b[49m\u001b[43m(\u001b[49m\u001b[43mwriter\u001b[49m\u001b[43m,\u001b[49m\u001b[43m \u001b[49m\u001b[43mt\u001b[49m\u001b[43m)\u001b[49m\u001b[43m,\u001b[49m\n\u001b[1;32m    235\u001b[0m \u001b[43m            \u001b[49m\u001b[43mCONFIG_KEY_CALL\u001b[49m\u001b[43m:\u001b[49m\u001b[43m \u001b[49m\u001b[43mpartial\u001b[49m\u001b[43m(\u001b[49m\u001b[43mcall\u001b[49m\u001b[43m,\u001b[49m\u001b[43m \u001b[49m\u001b[43mt\u001b[49m\u001b[43m)\u001b[49m\u001b[43m,\u001b[49m\n\u001b[1;32m    236\u001b[0m \u001b[43m        \u001b[49m\u001b[43m}\u001b[49m\u001b[43m,\u001b[49m\n\u001b[1;32m    237\u001b[0m \u001b[43m    \u001b[49m\u001b[43m)\u001b[49m\n\u001b[1;32m    238\u001b[0m     \u001b[38;5;28mself\u001b[39m\u001b[38;5;241m.\u001b[39mcommit(t, \u001b[38;5;28;01mNone\u001b[39;00m)\n\u001b[1;32m    239\u001b[0m \u001b[38;5;28;01mexcept\u001b[39;00m \u001b[38;5;167;01mException\u001b[39;00m \u001b[38;5;28;01mas\u001b[39;00m exc:\n",
      "File \u001b[0;32m~/.pyenv/versions/3.11.2/lib/python3.11/site-packages/langgraph/pregel/retry.py:40\u001b[0m, in \u001b[0;36mrun_with_retry\u001b[0;34m(task, retry_policy, configurable)\u001b[0m\n\u001b[1;32m     38\u001b[0m     task\u001b[38;5;241m.\u001b[39mwrites\u001b[38;5;241m.\u001b[39mclear()\n\u001b[1;32m     39\u001b[0m     \u001b[38;5;66;03m# run the task\u001b[39;00m\n\u001b[0;32m---> 40\u001b[0m     \u001b[38;5;28;01mreturn\u001b[39;00m \u001b[43mtask\u001b[49m\u001b[38;5;241;43m.\u001b[39;49m\u001b[43mproc\u001b[49m\u001b[38;5;241;43m.\u001b[39;49m\u001b[43minvoke\u001b[49m\u001b[43m(\u001b[49m\u001b[43mtask\u001b[49m\u001b[38;5;241;43m.\u001b[39;49m\u001b[43minput\u001b[49m\u001b[43m,\u001b[49m\u001b[43m \u001b[49m\u001b[43mconfig\u001b[49m\u001b[43m)\u001b[49m\n\u001b[1;32m     41\u001b[0m \u001b[38;5;28;01mexcept\u001b[39;00m ParentCommand \u001b[38;5;28;01mas\u001b[39;00m exc:\n\u001b[1;32m     42\u001b[0m     ns: \u001b[38;5;28mstr\u001b[39m \u001b[38;5;241m=\u001b[39m config[CONF][CONFIG_KEY_CHECKPOINT_NS]\n",
      "File \u001b[0;32m~/.pyenv/versions/3.11.2/lib/python3.11/site-packages/langgraph/utils/runnable.py:495\u001b[0m, in \u001b[0;36mRunnableSeq.invoke\u001b[0;34m(self, input, config, **kwargs)\u001b[0m\n\u001b[1;32m    491\u001b[0m config \u001b[38;5;241m=\u001b[39m patch_config(\n\u001b[1;32m    492\u001b[0m     config, callbacks\u001b[38;5;241m=\u001b[39mrun_manager\u001b[38;5;241m.\u001b[39mget_child(\u001b[38;5;124mf\u001b[39m\u001b[38;5;124m\"\u001b[39m\u001b[38;5;124mseq:step:\u001b[39m\u001b[38;5;132;01m{\u001b[39;00mi\u001b[38;5;250m \u001b[39m\u001b[38;5;241m+\u001b[39m\u001b[38;5;250m \u001b[39m\u001b[38;5;241m1\u001b[39m\u001b[38;5;132;01m}\u001b[39;00m\u001b[38;5;124m\"\u001b[39m)\n\u001b[1;32m    493\u001b[0m )\n\u001b[1;32m    494\u001b[0m \u001b[38;5;28;01mif\u001b[39;00m i \u001b[38;5;241m==\u001b[39m \u001b[38;5;241m0\u001b[39m:\n\u001b[0;32m--> 495\u001b[0m     \u001b[38;5;28minput\u001b[39m \u001b[38;5;241m=\u001b[39m \u001b[43mstep\u001b[49m\u001b[38;5;241;43m.\u001b[39;49m\u001b[43minvoke\u001b[49m\u001b[43m(\u001b[49m\u001b[38;5;28;43minput\u001b[39;49m\u001b[43m,\u001b[49m\u001b[43m \u001b[49m\u001b[43mconfig\u001b[49m\u001b[43m,\u001b[49m\u001b[43m \u001b[49m\u001b[38;5;241;43m*\u001b[39;49m\u001b[38;5;241;43m*\u001b[39;49m\u001b[43mkwargs\u001b[49m\u001b[43m)\u001b[49m\n\u001b[1;32m    496\u001b[0m \u001b[38;5;28;01melse\u001b[39;00m:\n\u001b[1;32m    497\u001b[0m     \u001b[38;5;28minput\u001b[39m \u001b[38;5;241m=\u001b[39m step\u001b[38;5;241m.\u001b[39minvoke(\u001b[38;5;28minput\u001b[39m, config)\n",
      "File \u001b[0;32m~/.pyenv/versions/3.11.2/lib/python3.11/site-packages/langgraph/utils/runnable.py:259\u001b[0m, in \u001b[0;36mRunnableCallable.invoke\u001b[0;34m(self, input, config, **kwargs)\u001b[0m\n\u001b[1;32m    257\u001b[0m \u001b[38;5;28;01melse\u001b[39;00m:\n\u001b[1;32m    258\u001b[0m     context\u001b[38;5;241m.\u001b[39mrun(_set_config_context, config)\n\u001b[0;32m--> 259\u001b[0m     ret \u001b[38;5;241m=\u001b[39m \u001b[43mcontext\u001b[49m\u001b[38;5;241;43m.\u001b[39;49m\u001b[43mrun\u001b[49m\u001b[43m(\u001b[49m\u001b[38;5;28;43mself\u001b[39;49m\u001b[38;5;241;43m.\u001b[39;49m\u001b[43mfunc\u001b[49m\u001b[43m,\u001b[49m\u001b[43m \u001b[49m\u001b[38;5;241;43m*\u001b[39;49m\u001b[43margs\u001b[49m\u001b[43m,\u001b[49m\u001b[43m \u001b[49m\u001b[38;5;241;43m*\u001b[39;49m\u001b[38;5;241;43m*\u001b[39;49m\u001b[43mkwargs\u001b[49m\u001b[43m)\u001b[49m\n\u001b[1;32m    260\u001b[0m \u001b[38;5;28;01mif\u001b[39;00m \u001b[38;5;28misinstance\u001b[39m(ret, Runnable) \u001b[38;5;129;01mand\u001b[39;00m \u001b[38;5;28mself\u001b[39m\u001b[38;5;241m.\u001b[39mrecurse:\n\u001b[1;32m    261\u001b[0m     \u001b[38;5;28;01mreturn\u001b[39;00m ret\u001b[38;5;241m.\u001b[39minvoke(\u001b[38;5;28minput\u001b[39m, config)\n",
      "Cell \u001b[0;32mIn[25], line 6\u001b[0m, in \u001b[0;36mgenerate\u001b[0;34m(state)\u001b[0m\n\u001b[1;32m      4\u001b[0m rag_chain \u001b[38;5;241m=\u001b[39m prompt \u001b[38;5;241m|\u001b[39m llm\n\u001b[1;32m      5\u001b[0m response \u001b[38;5;241m=\u001b[39m rag_chain\u001b[38;5;241m.\u001b[39minvoke({\u001b[38;5;124m'\u001b[39m\u001b[38;5;124mquestion\u001b[39m\u001b[38;5;124m'\u001b[39m: query, \u001b[38;5;124m'\u001b[39m\u001b[38;5;124mcontext\u001b[39m\u001b[38;5;124m'\u001b[39m: context})\n\u001b[0;32m----> 6\u001b[0m response \u001b[38;5;241m=\u001b[39m \u001b[43mllm\u001b[49m\u001b[38;5;241;43m.\u001b[39;49m\u001b[43minvoke\u001b[49m\u001b[43m(\u001b[49m\u001b[43mquery\u001b[49m\u001b[43m,\u001b[49m\u001b[43m \u001b[49m\u001b[43mcontext\u001b[49m\u001b[43m)\u001b[49m\n\u001b[1;32m      7\u001b[0m \u001b[38;5;28;01mreturn\u001b[39;00m {\u001b[38;5;124m'\u001b[39m\u001b[38;5;124manswer\u001b[39m\u001b[38;5;124m'\u001b[39m: response}\n",
      "File \u001b[0;32m~/.pyenv/versions/3.11.2/lib/python3.11/site-packages/langchain_core/language_models/chat_models.py:281\u001b[0m, in \u001b[0;36mBaseChatModel.invoke\u001b[0;34m(self, input, config, stop, **kwargs)\u001b[0m\n\u001b[1;32m    273\u001b[0m \u001b[38;5;28;01mdef\u001b[39;00m\u001b[38;5;250m \u001b[39m\u001b[38;5;21minvoke\u001b[39m(\n\u001b[1;32m    274\u001b[0m     \u001b[38;5;28mself\u001b[39m,\n\u001b[1;32m    275\u001b[0m     \u001b[38;5;28minput\u001b[39m: LanguageModelInput,\n\u001b[0;32m   (...)\u001b[0m\n\u001b[1;32m    279\u001b[0m     \u001b[38;5;241m*\u001b[39m\u001b[38;5;241m*\u001b[39mkwargs: Any,\n\u001b[1;32m    280\u001b[0m ) \u001b[38;5;241m-\u001b[39m\u001b[38;5;241m>\u001b[39m BaseMessage:\n\u001b[0;32m--> 281\u001b[0m     config \u001b[38;5;241m=\u001b[39m \u001b[43mensure_config\u001b[49m\u001b[43m(\u001b[49m\u001b[43mconfig\u001b[49m\u001b[43m)\u001b[49m\n\u001b[1;32m    282\u001b[0m     \u001b[38;5;28;01mreturn\u001b[39;00m cast(\n\u001b[1;32m    283\u001b[0m         ChatGeneration,\n\u001b[1;32m    284\u001b[0m         \u001b[38;5;28mself\u001b[39m\u001b[38;5;241m.\u001b[39mgenerate_prompt(\n\u001b[0;32m   (...)\u001b[0m\n\u001b[1;32m    293\u001b[0m         )\u001b[38;5;241m.\u001b[39mgenerations[\u001b[38;5;241m0\u001b[39m][\u001b[38;5;241m0\u001b[39m],\n\u001b[1;32m    294\u001b[0m     )\u001b[38;5;241m.\u001b[39mmessage\n",
      "File \u001b[0;32m~/.pyenv/versions/3.11.2/lib/python3.11/site-packages/langchain_core/runnables/config.py:183\u001b[0m, in \u001b[0;36mensure_config\u001b[0;34m(config)\u001b[0m\n\u001b[1;32m    167\u001b[0m     empty\u001b[38;5;241m.\u001b[39mupdate(\n\u001b[1;32m    168\u001b[0m         cast(\n\u001b[1;32m    169\u001b[0m             RunnableConfig,\n\u001b[0;32m   (...)\u001b[0m\n\u001b[1;32m    175\u001b[0m         )\n\u001b[1;32m    176\u001b[0m     )\n\u001b[1;32m    177\u001b[0m \u001b[38;5;28;01mif\u001b[39;00m config \u001b[38;5;129;01mis\u001b[39;00m \u001b[38;5;129;01mnot\u001b[39;00m \u001b[38;5;28;01mNone\u001b[39;00m:\n\u001b[1;32m    178\u001b[0m     empty\u001b[38;5;241m.\u001b[39mupdate(\n\u001b[1;32m    179\u001b[0m         cast(\n\u001b[1;32m    180\u001b[0m             RunnableConfig,\n\u001b[1;32m    181\u001b[0m             {\n\u001b[1;32m    182\u001b[0m                 k: v\u001b[38;5;241m.\u001b[39mcopy() \u001b[38;5;28;01mif\u001b[39;00m k \u001b[38;5;129;01min\u001b[39;00m COPIABLE_KEYS \u001b[38;5;28;01melse\u001b[39;00m v  \u001b[38;5;66;03m# type: ignore[attr-defined]\u001b[39;00m\n\u001b[0;32m--> 183\u001b[0m                 \u001b[38;5;28;01mfor\u001b[39;00m k, v \u001b[38;5;129;01min\u001b[39;00m \u001b[43mconfig\u001b[49m\u001b[38;5;241;43m.\u001b[39;49m\u001b[43mitems\u001b[49m()\n\u001b[1;32m    184\u001b[0m                 \u001b[38;5;28;01mif\u001b[39;00m v \u001b[38;5;129;01mis\u001b[39;00m \u001b[38;5;129;01mnot\u001b[39;00m \u001b[38;5;28;01mNone\u001b[39;00m \u001b[38;5;129;01mand\u001b[39;00m k \u001b[38;5;129;01min\u001b[39;00m CONFIG_KEYS\n\u001b[1;32m    185\u001b[0m             },\n\u001b[1;32m    186\u001b[0m         )\n\u001b[1;32m    187\u001b[0m     )\n\u001b[1;32m    188\u001b[0m \u001b[38;5;28;01mif\u001b[39;00m config \u001b[38;5;129;01mis\u001b[39;00m \u001b[38;5;129;01mnot\u001b[39;00m \u001b[38;5;28;01mNone\u001b[39;00m:\n\u001b[1;32m    189\u001b[0m     \u001b[38;5;28;01mfor\u001b[39;00m k, v \u001b[38;5;129;01min\u001b[39;00m config\u001b[38;5;241m.\u001b[39mitems():\n",
      "\u001b[0;31mAttributeError\u001b[0m: 'list' object has no attribute 'items'",
      "\u001b[0mDuring task with name 'generate' and id '652e52bd-ccc2-6201-49cd-13645b84a3cd'"
     ]
    }
   ],
   "source": [
    "initial_state = {'query': query}\n",
    "sequence_graph.invoke(initial_state)"
   ]
  }
 ],
 "metadata": {
  "kernelspec": {
   "display_name": "3.11.2",
   "language": "python",
   "name": "python3"
  },
  "language_info": {
   "codemirror_mode": {
    "name": "ipython",
    "version": 3
   },
   "file_extension": ".py",
   "mimetype": "text/x-python",
   "name": "python",
   "nbconvert_exporter": "python",
   "pygments_lexer": "ipython3",
   "version": "3.11.2"
  }
 },
 "nbformat": 4,
 "nbformat_minor": 2
}
