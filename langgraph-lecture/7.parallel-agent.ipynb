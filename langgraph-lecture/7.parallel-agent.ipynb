{
 "cells": [
  {
   "cell_type": "code",
   "execution_count": 2,
   "metadata": {},
   "outputs": [
    {
     "data": {
      "text/plain": [
       "True"
      ]
     },
     "execution_count": 2,
     "metadata": {},
     "output_type": "execute_result"
    }
   ],
   "source": [
    "from dotenv import load_dotenv\n",
    "\n",
    "load_dotenv()"
   ]
  },
  {
   "cell_type": "code",
   "execution_count": null,
   "metadata": {},
   "outputs": [],
   "source": [
    "from typing_extensions import TypedDict\n",
    "from langgraph.graph import StateGraph\n",
    "\n",
    "class AgentState(TypedDict):\n",
    "    query: str      # 사용자 질문\n",
    "    answer: str     # 세율\n",
    "    tax_base_equation: str # 과세표준 계산 수식\n",
    "    tax_deduction: str # 공제액\n",
    "    market_ratio: str # 공정시장가액비율\n",
    "    tax_base: str   # 과세표준 계산\n",
    "\n",
    "graph_builder = StateGraph(AgentState)"
   ]
  },
  {
   "cell_type": "code",
   "execution_count": null,
   "metadata": {},
   "outputs": [],
   "source": [
    "import os \n",
    "\n",
    "from langchain_chroma import Chroma\n",
    "from langchain_openai import AzureOpenAIEmbeddings\n",
    "\n",
    "# embedding_function = OpenAIEmbeddings(model='text-embedding-3-large')\n",
    "embedding_function = AzureOpenAIEmbeddings(\n",
    "    model='text-embedding-3-large',\n",
    "    azure_endpoint=os.getenv('AZURE_OPENAI_EMBEDDING_ENDPOINT'),\n",
    "    api_key=os.getenv('AZURE_OPENAI_EMBEDDING_API_KEY')\n",
    ")\n",
    "vector_store = Chroma(\n",
    "    embedding_function=embedding_function,\n",
    "    collection_name = 'real_estate_tax',\n",
    "    persist_directory='./real_estate_tax_collection'\n",
    ")\n",
    "retriever = vector_store.as_retriever(search_kwargs={'k': 3})"
   ]
  },
  {
   "cell_type": "code",
   "execution_count": null,
   "metadata": {},
   "outputs": [],
   "source": [
    "query = '5억짜리 집 1채, 10억짜리 집 1채, 20억짜리 집 1채를 가지고 있을 때 세금을 얼마나 내나요?'"
   ]
  },
  {
   "cell_type": "code",
   "execution_count": null,
   "metadata": {},
   "outputs": [],
   "source": [
    "tax_base_retrieval_chain = (\n",
    "    {'context': retriever, 'question': RunnablePassthrough()} \n",
    "    | rag_prompt \n",
    "    | llm \n",
    "    | StrOutputParser()\n",
    ")\n",
    "\n",
    "tax_base_equation_prompt = ChatPromptTemplate.from_messages([\n",
    "    ('system', '사용자의 질문에서 과세표준을 계산하는 방법을 수식으로 나타내주세요. 부연설명 없이 수식만 리턴해주세요'),\n",
    "    ('human', '{tax_base_equation_information}')\n",
    "])\n",
    "\n",
    "tax_base_equation_chain = (\n",
    "    {'tax_base_equation_information': RunnablePassthrough()}\n",
    "    | tax_base_equation_prompt\n",
    "    | llm\n",
    "    | StrOutputParser()\n",
    ")\n",
    "\n",
    "tax_base_chain = {'tax_base_equation_information' : tax_base_retrieval_chain} | tax_base_equation_chain\n",
    "\n",
    "def get_tax_base_equation(state: AgentState) -> AgentState:\n",
    "    \"\"\"\n",
    "    종합부동산세 과세표준을 계산하는 수식을 가져옵니다.\n",
    "    `node`로 활용되기 때문에 `state`를 인자로 받지만, \n",
    "    고정된 기능을 수행하기 때문에 `state`를 활용하지는 않습니다.\n",
    "\n",
    "    Args:\n",
    "        state (AgentState): 현재 에이전트의 상태를 나타내는 객체입니다.\n",
    "\n",
    "    Returns:\n",
    "        AgentState: 'tax_base_equation' 키를 포함하는 새로운 `state`를 반환합니다.\n",
    "    \"\"\"\n",
    "    # 과세표준을 계산하는 방법을 묻는 질문을 정의합니다.\n",
    "    tax_base_equation_question = '주택에 대한 종합부동산세 계산시 과세표준을 계산하는 방법을 수식으로 표현해서 알려주세요'\n",
    "    \n",
    "    # tax_base_chain을 사용하여 질문을 실행하고 결과를 얻습니다.\n",
    "    tax_base_equation = tax_base_chain.invoke(tax_base_equation_question)\n",
    "    \n",
    "    # state에서 'tax_base_equation' 키에 대한 값을 반환합니다.\n",
    "    return {'tax_base_equation': tax_base_equation}"
   ]
  },
  {
   "cell_type": "code",
   "execution_count": null,
   "metadata": {},
   "outputs": [],
   "source": [
    "tax_deduction_chain = (\n",
    "    {'context': retriever, 'question': RunnablePassthrough()} \n",
    "    | rag_prompt \n",
    "    | llm \n",
    "    | StrOutputParser()\n",
    ")\n",
    "\n",
    "def get_tax_deduction(state: AgentState) -> AgentState:\n",
    "    \"\"\"\n",
    "    종합부동산세 공제금액에 관한 정보를 가져옵니다.\n",
    "    `node`로 활용되기 때문에 `state`를 인자로 받지만, \n",
    "    고정된 기능을 수행하기 때문에 `state`를 활용하지는 않습니다.\n",
    "\n",
    "    Args:\n",
    "        state (AgentState): 현재 에이전트의 state를 나타내는 객체입니다.\n",
    "\n",
    "    Returns:\n",
    "        AgentState: 'tax_deduction' 키를 포함하는 새로운 state를 반환합니다.\n",
    "    \"\"\"\n",
    "    # 공제금액을 묻는 질문을 정의합니다.\n",
    "    tax_deduction_question = '주택에 대한 종합부동산세 계산시 공제금액을 알려주세요'\n",
    "    \n",
    "    # tax_deduction_chain을 사용하여 질문을 실행하고 결과를 얻습니다.\n",
    "    tax_deduction = tax_deduction_chain.invoke(tax_deduction_question)\n",
    "    \n",
    "    # state에서 'tax_deduction' 키에 대한 값을 반환합니다.\n",
    "    return {'tax_deduction': tax_deduction}"
   ]
  },
  {
   "cell_type": "code",
   "execution_count": null,
   "metadata": {},
   "outputs": [
    {
     "name": "stdout",
     "output_type": "stream",
     "text": [
      "answer == {'answer': 'Bean Factory는 스프링 프레임워크의 가장 기본적인 컨테이너로, 빈(객체)을 관리하는데 주로 사용됩니다. Application Context는 Bean Factory을 확장한 것으로, 국제화, 이벤트 전파, 애플리케이션 레벨의 설정 등을 추가로 지원하며, 보다 풍부한 기능을 제공합니다. 따라서 실용적인 개발에서는 보통 Application Context를 사용합니다.'}\n"
     ]
    },
    {
     "data": {
      "text/plain": [
       "<langgraph.graph.state.StateGraph at 0x7f07b8967290>"
      ]
     },
     "execution_count": 7,
     "metadata": {},
     "output_type": "execute_result"
    }
   ],
   "source": [
    "from langchain_community.tools import TavilySearchResults\n",
    "from datetime import date\n",
    "\n",
    "tavily_search_tool = TavilySearchResults(\n",
    "    max_results=5,\n",
    "    search_depth=\"advanced\",\n",
    "    include_answer=True,\n",
    "    include_raw_content=True,\n",
    "    include_images=True,\n",
    ")\n",
    "\n",
    "tax_market_ratio_prompt = ChatPromptTemplate.from_messages([\n",
    "    ('system', f'아래 정보를 기반으로 공정시장 가액비율을 계산해주세요\\n\\nContext:\\n{{context}}'),\n",
    "    ('human', '{query}')\n",
    "])\n",
    "\n",
    "def get_market_ratio(state: AgentState) -> AgentState:\n",
    "    \"\"\"\n",
    "    web 검색을 통해 주택 공시가격에 대한 공정시장가액비율을 가져옵니다.\n",
    "    `node`로 활용되기 때문에 `state`를 인자로 받지만, \n",
    "    고정된 기능을 수행하기 때문에 `state`를 활용하지는 않습니다.\n",
    "    \n",
    "    Args:\n",
    "        state (AgentState): 현재 에이전트의 state를 나타내는 객체입니다.\n",
    "\n",
    "    Returns:\n",
    "        AgentState: 'market_ratio' 키를 포함하는 새로운 state를 반환합니다.\n",
    "    \"\"\"\n",
    "    # 오늘 날짜에 해당하는 공정시장가액비율을 묻는 쿼리를 정의합니다.\n",
    "    query = f'오늘 날짜:({date.today()})에 해당하는 주택 공시가격 공정시장가액비율은 몇%인가요?'\n",
    "    \n",
    "    # tavily_search_tool을 사용하여 쿼리를 실행하고 컨텍스트를 얻습니다.\n",
    "    context = tavily_search_tool.invoke(query)\n",
    "    \n",
    "    # tax_market_ratio_chain을 구성하여 쿼리와 컨텍스트를 처리합니다.\n",
    "    tax_market_ratio_chain = (\n",
    "        tax_market_ratio_prompt\n",
    "        | llm\n",
    "        | StrOutputParser()\n",
    "    )\n",
    "    \n",
    "    # tax_market_ratio_chain을 사용하여 시장 비율을 계산합니다.\n",
    "    market_ratio = tax_market_ratio_chain.invoke({'context': context, 'query': query})\n",
    "    \n",
    "    # state에서 'market_ratio' 키에 대한 값을 반환합니다.\n",
    "    return {'market_ratio': market_ratio}"
   ]
  },
  {
   "cell_type": "code",
   "execution_count": null,
   "metadata": {},
   "outputs": [
    {
     "data": {
      "text/plain": [
       "<langgraph.graph.state.StateGraph at 0x7f07b8967290>"
      ]
     },
     "execution_count": 8,
     "metadata": {},
     "output_type": "execute_result"
    }
   ],
   "source": [
    "tax_base_calculation_prompt = ChatPromptTemplate.from_messages(\n",
    "    [\n",
    "        ('system',\"\"\"\n",
    "주어진 내용을 기반으로 과세표준을 계산해주세요\n",
    "\n",
    "과세표준 계산 공식: {tax_base_equation}\n",
    "공제금액: {tax_deduction}\n",
    "공정시장가액비율: {market_ratio}\"\"\"),\n",
    "        ('human', '사용자 주택 공시가격 정보: {query}')\n",
    "    ]\n",
    ")\n",
    "\n",
    "def calculate_tax_base(state: AgentState) -> AgentState:\n",
    "    \"\"\"\n",
    "    주어진 state에서 과세표준을 계산합니다.\n",
    "\n",
    "    Args:\n",
    "        state (AgentState): 현재 에이전트의 state를 나타내는 객체입니다.\n",
    "\n",
    "    Returns:\n",
    "        AgentState: 'tax_base' 키를 포함하는 새로운 state를 반환합니다.\n",
    "    \"\"\"\n",
    "    # state에서 필요한 정보를 추출합니다.\n",
    "    tax_base_equation = state['tax_base_equation']\n",
    "    tax_deduction = state['tax_deduction']\n",
    "    market_ratio = state['market_ratio']\n",
    "    query = state['query']\n",
    "    \n",
    "    # tax_base_calculation_chain을 구성하여 과세표준을 계산합니다.\n",
    "    tax_base_calculation_chain = (\n",
    "        tax_base_calculation_prompt\n",
    "        | llm\n",
    "        | StrOutputParser()\n",
    "    )\n",
    "    \n",
    "    # tax_base_calculation_chain을 사용하여 과세표준을 계산합니다.\n",
    "    tax_base = tax_base_calculation_chain.invoke({\n",
    "        'tax_base_equation': tax_base_equation,\n",
    "        'tax_deduction': tax_deduction,\n",
    "        'market_ratio': market_ratio,\n",
    "        'query': query\n",
    "    })\n",
    "\n",
    "    # state에서 'tax_base' 키에 대한 값을 반환합니다.\n",
    "    return {'tax_base': tax_base}"
   ]
  },
  {
   "cell_type": "code",
   "execution_count": null,
   "metadata": {},
   "outputs": [],
   "source": [
    "tax_rate_calculation_prompt = ChatPromptTemplate.from_messages([\n",
    "    ('system', '''당신은 종합부동산세 계산 전문가입니다. 아래 문서를 참고해서 사용자의 질문에 대한 종합부동산세를 계산해주세요\n",
    "\n",
    "종합부동산세 세율:{context}'''),\n",
    "    ('human', '''과세표준과 사용자가 소지한 주택의 수가 아래와 같을 때 종합부동산세를 계산해주세요\n",
    "\n",
    "과세표준: {tax_base}\n",
    "주택 수:{query}''')\n",
    "])\n",
    "\n",
    "def calculate_tax_rate(state: AgentState):\n",
    "    \"\"\"\n",
    "    주어진 state에서 세율을 계산합니다.\n",
    "\n",
    "    Args:\n",
    "        state (AgentState): 현재 에이전트의 state를 나타내는 객체입니다.\n",
    "\n",
    "    Returns:\n",
    "        dict: 'answer' 키를 포함하는 새로운 state를 반환합니다.\n",
    "    \"\"\"\n",
    "    # state에서 필요한 정보를 추출합니다.\n",
    "    query = state['query']\n",
    "    tax_base = state['tax_base']\n",
    "    \n",
    "    # retriever를 사용하여 쿼리를 실행하고 컨텍스트를 얻습니다.\n",
    "    context = retriever.invoke(query)\n",
    "    \n",
    "    # tax_rate_chain을 구성하여 세율을 계산합니다.\n",
    "    tax_rate_chain = (\n",
    "        tax_rate_calculation_prompt\n",
    "        | llm\n",
    "        | StrOutputParser()\n",
    "    )\n",
    "    \n",
    "    # tax_rate_chain을 사용하여 세율을 계산합니다.\n",
    "    tax_rate = tax_rate_chain.invoke({\n",
    "        'context': context, \n",
    "        'tax_base': tax_base, \n",
    "        'query': query\n",
    "    })\n",
    "\n",
    "    # state에서 'answer' 키에 대한 값을 반환합니다.\n",
    "    return {'answer': tax_rate}"
   ]
  },
  {
   "cell_type": "code",
   "execution_count": null,
   "metadata": {},
   "outputs": [
    {
     "data": {
      "image/png": "[encoded data removed]",
      "text/plain": [
       "<IPython.core.display.Image object>"
      ]
     },
     "metadata": {},
     "output_type": "display_data"
    }
   ],
   "source": [
    "graph_builder.add_node('get_tax_base_equation', get_tax_base_equation)\n",
    "graph_builder.add_node('get_tax_deduction', get_tax_deduction)\n",
    "graph_builder.add_node('get_market_ratio', get_market_ratio)\n",
    "graph_builder.add_node('calculate_tax_base', calculate_tax_base)\n",
    "graph_builder.add_node('calculate_tax_rate', calculate_tax_rate)"
   ]
  },
  {
   "cell_type": "code",
   "execution_count": null,
   "metadata": {},
   "outputs": [
    {
     "name": "stdout",
     "output_type": "stream",
     "text": [
      "web search results == {results}\n"
     ]
    },
    {
     "data": {
      "text/plain": [
       "{'query': '웹상에서 사용하는 통신 규약은 무엇이 있나요?',\n",
       " 'context': [{'url': 'https://velog.io/@river-m/HTTP와-HTTPS-웹의-기본-통신-규약',\n",
       "   'content': '인터넷에서 웹 페이지를 열거나 정보를 주고받을 때 사용하는 기본적인 규약이 바로 HTTP(Hypertext Transfer Protocol)와 HTTPS(Hypertext Transfer Protocol Secure)이다. 그럼 이 둘의 차이점은 무엇이고, 왜 중요한지 ... HTTP와 HTTPS는 웹의 통신 규약의 기본이며, 그 중 HTTPS는 웹에서'},\n",
       "  {'url': 'https://uknew.co/통신-프로토콜이란-인터넷에서-자주-언급되는-protocol-종/',\n",
       "   'content': '통신 프로토콜(communication protocol:통신 규약)은 컴퓨터나 원거리 통신 장비 사이에서 메시지를 주고 받는 양식과 규칙 체계입니다. 네트워크에서 통신할 때 규약으로 프로토콜이라는 용어를 사용합니다. 통신하기 위한 규칙이 통신 프로토콜이란 것을 알 수'},\n",
       "  {'url': 'https://km713.tistory.com/51',\n",
       "   'content': '프로토콜(Protocol) 통신 프로토콜 또는 통신 규약은 컴퓨터나 원거리 통신 장비 사이에서 메시지를 주고 받는 양식과 규칙의 체계이다. 즉 통신 규약 및 약속이다. 프로토콜의 기본 요소 구문(Syntax) : 전송하고자 하는 데이터의 형식(Format), 부호화(Coding), 신호 레벨(Signal Level) 등을 규정의미(Semantics) : 두'}],\n",
       " 'answer': '웹상에서 사용하는 통신 규약에는 HTTP(Hypertext Transfer Protocol)와 HTTPS(Hypertext Transfer Protocol Secure)가 있습니다. HTTP와 HTTPS는 웹의 기본적인 통신 규약으로, HTTPS는 보안이 강화된 버전입니다.'}"
      ]
     },
     "execution_count": 13,
     "metadata": {},
     "output_type": "execute_result"
    }
   ],
   "source": [
    "from langgraph.graph import START, END\n",
    "\n",
    "graph_builder.add_edge(START, 'get_tax_base_equation')\n",
    "graph_builder.add_edge(START, 'get_tax_deduction')\n",
    "graph_builder.add_edge(START, 'get_market_ratio')\n",
    "graph_builder.add_edge('get_tax_base_equation', 'calculate_tax_base')\n",
    "graph_builder.add_edge('get_tax_deduction', 'calculate_tax_base')\n",
    "graph_builder.add_edge('get_market_ratio', 'calculate_tax_base')\n",
    "graph_builder.add_edge('calculate_tax_base', 'calculate_tax_rate')\n",
    "graph_builder.add_edge('calculate_tax_rate', END)"
   ]
  },
  {
   "cell_type": "code",
   "execution_count": null,
   "metadata": {},
   "outputs": [],
   "source": [
    "graph = graph_builder.compile()"
   ]
  },
  {
   "cell_type": "code",
   "execution_count": null,
   "metadata": {},
   "outputs": [],
   "source": [
    "from IPython.display import Image, display\n",
    "\n",
    "display(Image(graph.get_graph().draw_mermaid_png()))"
   ]
  },
  {
   "cell_type": "code",
   "execution_count": null,
   "metadata": {},
   "outputs": [],
   "source": [
    "initial_state = {'query': query}\n",
    "graph.invoke(initial_state)"
   ]
  }
 ],
 "metadata": {
  "kernelspec": {
   "display_name": "3.11.2",
   "language": "python",
   "name": "python3"
  },
  "language_info": {
   "codemirror_mode": {
    "name": "ipython",
    "version": 3
   },
   "file_extension": ".py",
   "mimetype": "text/x-python",
   "name": "python",
   "nbconvert_exporter": "python",
   "pygments_lexer": "ipython3",
   "version": "3.11.2"
  }
 },
 "nbformat": 4,
 "nbformat_minor": 2
}
