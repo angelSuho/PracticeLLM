{
 "cells": [
  {
   "cell_type": "code",
   "execution_count": 1,
   "metadata": {},
   "outputs": [],
   "source": [
    "from langchain_chroma import Chroma\n",
    "from langchain_openai import OpenAIEmbeddings\n",
    "\n",
    "embedding_function = OpenAIEmbeddings(model='text-embedding-3-large')\n",
    "\n",
    "vector_store = Chroma (\n",
    "    embedding_function=embedding_function,\n",
    "    collection_name='split_1_300_344',\n",
    "    persist_directory='./split_1_300_344'\n",
    ")\n",
    "retriever = vector_store.as_retriever(search_kwargs={'k': 3})"
   ]
  },
  {
   "cell_type": "code",
   "execution_count": 2,
   "metadata": {},
   "outputs": [],
   "source": [
    "from typing_extensions import List, TypedDict\n",
    "from langchain_core.documents import Document\n",
    "from langgraph.graph import StateGraph\n",
    "\n",
    "class AgentState(TypedDict):\n",
    "    query: str\n",
    "    context: List[Document]\n",
    "    answer: str\n",
    "\n",
    "graph_builder = StateGraph(AgentState)"
   ]
  },
  {
   "cell_type": "code",
   "execution_count": 3,
   "metadata": {},
   "outputs": [],
   "source": [
    "# Node는 2가지가 필요\n",
    "# 1. 문서를 가져오는 retrieve\n",
    "# 2. 답변을 생성하는 generate\n",
    "\n",
    "def retrieve(state: AgentState):\n",
    "    query = state['query']\n",
    "    docs = retriever.invoke(query)\n",
    "    return {'context': docs}"
   ]
  },
  {
   "cell_type": "code",
   "execution_count": 4,
   "metadata": {},
   "outputs": [],
   "source": [
    "# set the LANGSMITH_API_KEY environment variable (create key in settings)\n",
    "from langchain_openai import ChatOpenAI\n",
    "\n",
    "llm = ChatOpenAI(model='gpt-4o')"
   ]
  },
  {
   "cell_type": "code",
   "execution_count": 5,
   "metadata": {},
   "outputs": [
    {
     "name": "stderr",
     "output_type": "stream",
     "text": [
      "/root/.pyenv/versions/3.11.2/lib/python3.11/site-packages/langsmith/client.py:253: LangSmithMissingAPIKeyWarning: API key must be provided when using hosted LangSmith API\n",
      "  warnings.warn(\n"
     ]
    }
   ],
   "source": [
    "from langchain import hub\n",
    "# prompt는 genereate, rewrite, 문서 관련성 등 프롬포트가 필요하다.\n",
    "# 따라서 prompt라는 이름으로는 중복 변수 이름이 될 수 있다.\n",
    "generate_prompt = hub.pull(\"rlm/rag-prompt\")\n",
    "\n",
    "def generate(state: AgentState):\n",
    "    context = state['context']\n",
    "    query = state['query']\n",
    "    rag_chain = generate_prompt | llm\n",
    "    response = rag_chain.invoke({'question': query, 'context': context})\n",
    "    return {'answer': response.content}"
   ]
  },
  {
   "cell_type": "code",
   "execution_count": 6,
   "metadata": {},
   "outputs": [
    {
     "name": "stderr",
     "output_type": "stream",
     "text": [
      "/root/.pyenv/versions/3.11.2/lib/python3.11/site-packages/langsmith/client.py:253: LangSmithMissingAPIKeyWarning: API key must be provided when using hosted LangSmith API\n",
      "  warnings.warn(\n"
     ]
    }
   ],
   "source": [
    "from langchain import hub\n",
    "from typing import Literal\n",
    "doc_relevance_prompt = hub.pull(\"langchain-ai/rag-document-relevance\")\n",
    "\n",
    "def check_doc_relevance(state: AgentState) -> Literal['generate', 'rewrite']:\n",
    "    query = state['query']\n",
    "    context = state['context']\n",
    "    print(f'context = {context}')\n",
    "    doc_relevance_chain = doc_relevance_prompt | llm\n",
    "    response = doc_relevance_chain.invoke({'question': query, 'documents': context})\n",
    "    print(f'doc relevance response: {response}')\n",
    "    if response['Score'] == 1:\n",
    "        return 'relevant'\n",
    "    return 'irrelevant'"
   ]
  },
  {
   "cell_type": "code",
   "execution_count": 7,
   "metadata": {},
   "outputs": [],
   "source": [
    "from langchain_core.prompts import PromptTemplate\n",
    "\n",
    "dictionary = ['사용자와 관련된 표현 -> 클라이언트']\n",
    "rewrite_prompt = PromptTemplate.from_template(f\"\"\"\n",
    "사용자의 질문을 보고, 우리의 사전을 참고해서 사용자의 질문을 변경해주세요.\n",
    "사전: {dictionary}\n",
    "질문: {{query}}\n",
    "\"\"\")\n",
    "\n",
    "# 입력된 쿼리(query)를 변형(rewrite)하여 새로운 쿼리를 생성하는 것\n",
    "def rewrite(state: AgentState):\n",
    "    query = state['query']\n",
    "    rewrite_chain = rewrite_prompt | llm\n",
    "    response = rewrite_chain.invoke({'query': query})\n",
    "    return {'query': response.content}"
   ]
  },
  {
   "cell_type": "code",
   "execution_count": 12,
   "metadata": {},
   "outputs": [
    {
     "name": "stderr",
     "output_type": "stream",
     "text": [
      "/root/.pyenv/versions/3.11.2/lib/python3.11/site-packages/langsmith/client.py:253: LangSmithMissingAPIKeyWarning: API key must be provided when using hosted LangSmith API\n",
      "  warnings.warn(\n"
     ]
    }
   ],
   "source": [
    "from langchain import hub\n",
    "\n",
    "hallucination_prompt = hub.pull(\"langchain-ai/rag-answer-hallucination\")\n",
    "\n",
    "def check_hallucination(state: AgentState):\n",
    "    answer = state['answer']\n",
    "    context = state['context']\n",
    "    print(f'context = {context}')\n",
    "    hallucination_chain = hallucination_prompt | llm\n",
    "    response = hallucination_chain.invoke({'student_answer': answer, 'documents': context})\n",
    "    print(f'doc relevance response: {response}')\n",
    "    if response['Score'] == 1:\n",
    "        return 'generate'\n",
    "    return 'end'"
   ]
  },
  {
   "cell_type": "code",
   "execution_count": 13,
   "metadata": {},
   "outputs": [
    {
     "name": "stdout",
     "output_type": "stream",
     "text": [
      "context = [Document(id='b27eb821-f5a4-403b-a03a-bc3ae824d398', metadata={'source': './documents/split_1_300_344.txt'}, page_content='The ServletWebServerApplicationContext\\nUnder the hood, Spring Boot uses a different type of ApplicationContext for embedded servlet container support. The ServletWebServerApplicationContext is a special type of WebApplicationContext that bootstraps itself by searching for a single ServletWebServerFactory bean. Usually a TomcatServletWebServerFactory, JettyServletWebServerFactory, or UndertowServletWebServerFactory has been auto-configured.\\nNOTE\\nYou usually do not need to be aware of these implementation classes. Most applications are auto-configured, and the appropriate ApplicationContext and ServletWebServerFactory are created on your behalf.\\nIn an embedded container setup, the ServletContext is set as part of server startup which happens during application context initialization. Because of this, beans in the ApplicationContext cannot be reliably initialized with a ServletContext. One way to get around this is to inject ApplicationContext as a dependency of the bean and access the ServletContext only when it is needed. Another way is to use a callback once the server has started. This can be done using an ApplicationListener which listens for the ApplicationStartedEvent as follows:\\nimport jakarta.servlet.ServletContext;\\nimport org.springframework.boot.context.event.ApplicationStartedEvent;\\nimport org.springframework.context.ApplicationListener;\\nimport org.springframework.context.ApplicationContext;\\nimport org.springframework.web.context.WebApplicationContext;'), Document(id='2dd4498e-210c-4829-9a11-934f50099277', metadata={'source': './documents/split_1_300_344.txt'}, page_content='The ServletWebServerApplicationContext\\nUnder the hood, Spring Boot uses a different type of ApplicationContext for embedded servlet container support. The ServletWebServerApplicationContext is a special type of WebApplicationContext that bootstraps itself by searching for a single ServletWebServerFactory bean. Usually a TomcatServletWebServerFactory, JettyServletWebServerFactory, or UndertowServletWebServerFactory has been auto-configured.\\nNOTE\\nYou usually do not need to be aware of these implementation classes. Most applications are auto-configured, and the appropriate ApplicationContext and ServletWebServerFactory are created on your behalf.\\nIn an embedded container setup, the ServletContext is set as part of server startup which happens during application context initialization. Because of this, beans in the ApplicationContext cannot be reliably initialized with a ServletContext. One way to get around this is to inject ApplicationContext as a dependency of the bean and access the ServletContext only when it is needed. Another way is to use a callback once the server has started. This can be done using an ApplicationListener which listens for the ApplicationStartedEvent as follows:\\nimport jakarta.servlet.ServletContext;\\nimport org.springframework.boot.context.event.ApplicationStartedEvent;\\nimport org.springframework.context.ApplicationListener;\\nimport org.springframework.context.ApplicationContext;\\nimport org.springframework.web.context.WebApplicationContext;'), Document(id='0b7730cc-2b84-4e05-b694-e6e994694f8e', metadata={'source': './documents/split_1_300_344.txt'}, page_content='The ServletWebServerApplicationContext\\nUnder the hood, Spring Boot uses a different type of ApplicationContext for embedded servlet container support. The ServletWebServerApplicationContext is a special type of WebApplicationContext that bootstraps itself by searching for a single ServletWebServerFactory bean. Usually a TomcatServletWebServerFactory, JettyServletWebServerFactory, or UndertowServletWebServerFactory has been auto-configured.\\nNOTE\\nYou usually do not need to be aware of these implementation classes. Most applications are auto-configured, and the appropriate ApplicationContext and ServletWebServerFactory are created on your behalf.\\nIn an embedded container setup, the ServletContext is set as part of server startup which happens during application context initialization. Because of this, beans in the ApplicationContext cannot be reliably initialized with a ServletContext. One way to get around this is to inject ApplicationContext as a dependency of the bean and access the ServletContext only when it is needed. Another way is to use a callback once the server has started. This can be done using an ApplicationListener which listens for the ApplicationStartedEvent as follows:\\nimport jakarta.servlet.ServletContext;\\nimport org.springframework.boot.context.event.ApplicationStartedEvent;\\nimport org.springframework.context.ApplicationListener;\\nimport org.springframework.context.ApplicationContext;\\nimport org.springframework.web.context.WebApplicationContext;')]\n",
      "doc relevance response: {'Score': 0, 'Explanation': \"The student's answer 'I don't know.' does not demonstrate any understanding or reference of the given facts. The facts provided information about `ServletWebServerApplicationContext`, its role in Spring Boot for embedded servlet container support, and other related details. The student did not attempt to base their answer on the provided facts, hence it doesn't meet the grading criteria of being grounded in the facts presented.\"}\n"
     ]
    },
    {
     "data": {
      "text/plain": [
       "'end'"
      ]
     },
     "execution_count": 13,
     "metadata": {},
     "output_type": "execute_result"
    }
   ],
   "source": [
    "query = \"Bean Factory와 Application Context의 차이는?\"\n",
    "context = retriever.invoke(query)\n",
    "generate_state = {'query': query, 'context': context}\n",
    "answer = generate(generate_state)\n",
    "\n",
    "hallucination_state = {'answer': answer, 'context': context}\n",
    "check_hallucination(hallucination_state)"
   ]
  }
 ],
 "metadata": {
  "kernelspec": {
   "display_name": "3.11.2",
   "language": "python",
   "name": "python3"
  },
  "language_info": {
   "codemirror_mode": {
    "name": "ipython",
    "version": 3
   },
   "file_extension": ".py",
   "mimetype": "text/x-python",
   "name": "python",
   "nbconvert_exporter": "python",
   "pygments_lexer": "ipython3",
   "version": "3.11.2"
  }
 },
 "nbformat": 4,
 "nbformat_minor": 2
}
