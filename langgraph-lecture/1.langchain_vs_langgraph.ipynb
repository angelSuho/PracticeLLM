{
 "cells": [
  {
   "cell_type": "code",
   "execution_count": 1,
   "metadata": {},
   "outputs": [
    {
     "name": "stdout",
     "output_type": "stream",
     "text": [
      "\u001b[33mWARNING: Running pip as the 'root' user can result in broken permissions and conflicting behaviour with the system package manager. It is recommended to use a virtual environment instead: https://pip.pypa.io/warnings/venv\u001b[0m\u001b[33m\n",
      "\u001b[0m\n",
      "\u001b[1m[\u001b[0m\u001b[34;49mnotice\u001b[0m\u001b[1;39;49m]\u001b[0m\u001b[39;49m A new release of pip available: \u001b[0m\u001b[31;49m22.3.1\u001b[0m\u001b[39;49m -> \u001b[0m\u001b[32;49m25.0\u001b[0m\n",
      "\u001b[1m[\u001b[0m\u001b[34;49mnotice\u001b[0m\u001b[1;39;49m]\u001b[0m\u001b[39;49m To update, run: \u001b[0m\u001b[32;49mpip install --upgrade pip\u001b[0m\n",
      "Note: you may need to restart the kernel to use updated packages.\n"
     ]
    }
   ],
   "source": [
    "%pip install -q python-dotenv langchain-openai"
   ]
  },
  {
   "cell_type": "code",
   "execution_count": 2,
   "metadata": {},
   "outputs": [
    {
     "data": {
      "text/plain": [
       "AIMessage(content='인프런은 다양한 분야의 온라인 강의를 제공하는 플랫폼입니다. 제공되는 강의 주제는 다음과 같습니다:\\n\\n1. **프로그래밍 및 개발**: 웹 개발, 모바일 앱 개발, 데이터베이스, 알고리즘, 인공지능 및 머신러닝 등.\\n\\n2. **디자인**: 그래픽 디자인, UX/UI 디자인, 3D 모델링 등.\\n\\n3. **비즈니스 및 마케팅**: 경영, 금융, 사업 전략, 디지털 마케팅, SEO 등.\\n\\n4. **자기계발**: 생산성 향상, 시간 관리, 리더십 개발 등.\\n\\n5. **사진 및 영상**: 사진 촬영 기법, 영상 편집, 애니메이션 제작 등.\\n\\n6. **음악**: 악기 연주, 음악 이론, 음악 제작 등.\\n\\n각 강의는 다양한 수준(초보, 중급, 고급)에 맞춰 제공되며, 수강생은 자신의 필요와 수준에 맞는 강의를 선택하여 들을 수 있습니다. 최신 강의 목록이나 상세 정보는 인프런 웹사이트를 방문하여 확인할 수 있습니다.', additional_kwargs={'refusal': None}, response_metadata={'token_usage': {'completion_tokens': 242, 'prompt_tokens': 18, 'total_tokens': 260, 'completion_tokens_details': {'accepted_prediction_tokens': 0, 'audio_tokens': 0, 'reasoning_tokens': 0, 'rejected_prediction_tokens': 0}, 'prompt_tokens_details': {'audio_tokens': 0, 'cached_tokens': 0}}, 'model_name': 'gpt-4o-2024-08-06', 'system_fingerprint': 'fp_50cad350e4', 'finish_reason': 'stop', 'logprobs': None}, id='run-15e63493-7465-4f9e-abe3-1e10defe88a5-0', usage_metadata={'input_tokens': 18, 'output_tokens': 242, 'total_tokens': 260, 'input_token_details': {'audio': 0, 'cache_read': 0}, 'output_token_details': {'audio': 0, 'reasoning': 0}})"
      ]
     },
     "execution_count": 2,
     "metadata": {},
     "output_type": "execute_result"
    }
   ],
   "source": [
    "from dotenv import load_dotenv\n",
    "from langchain_openai import ChatOpenAI\n",
    "\n",
    "load_dotenv()\n",
    "\n",
    "query = '인프런에는 어떤 강의가 있나요?'\n",
    "\n",
    "llm = ChatOpenAI(model='gpt-4o')\n",
    "llm.invoke(query)\n"
   ]
  },
  {
   "cell_type": "code",
   "execution_count": null,
   "metadata": {},
   "outputs": [],
   "source": [
    "# Rag의 목적 = 사용자의 질문에 답변하기 위해 질문과 관련된 청크(retrieve)를 생성하고, 생성된 청크를 기반으로 답변을 생성하고, 생성된 답변을 사용자에게 전달하는 것\n",
    "# State = 현재 Agent의 상태\n",
    "# Node = Agent가 수행하는 작업\n",
    "# Edge = Node들의 관계 (실선일 경우, 반드시 발생하는 관계, 점선일 경우, 선택적인 관계)\n",
    "# Conditional Edge = 조건부 관계 (조건이 만족되면, 실선의 Edge로 전환)"
   ]
  },
  {
   "cell_type": "code",
   "execution_count": 4,
   "metadata": {},
   "outputs": [
    {
     "name": "stdout",
     "output_type": "stream",
     "text": [
      "\u001b[33mWARNING: Running pip as the 'root' user can result in broken permissions and conflicting behaviour with the system package manager. It is recommended to use a virtual environment instead: https://pip.pypa.io/warnings/venv\u001b[0m\u001b[33m\n",
      "\u001b[0m\n",
      "\u001b[1m[\u001b[0m\u001b[34;49mnotice\u001b[0m\u001b[1;39;49m]\u001b[0m\u001b[39;49m A new release of pip available: \u001b[0m\u001b[31;49m22.3.1\u001b[0m\u001b[39;49m -> \u001b[0m\u001b[32;49m25.0\u001b[0m\n",
      "\u001b[1m[\u001b[0m\u001b[34;49mnotice\u001b[0m\u001b[1;39;49m]\u001b[0m\u001b[39;49m To update, run: \u001b[0m\u001b[32;49mpip install --upgrade pip\u001b[0m\n",
      "Note: you may need to restart the kernel to use updated packages.\n"
     ]
    }
   ],
   "source": [
    "%pip install -q langgraph"
   ]
  },
  {
   "cell_type": "code",
   "execution_count": 5,
   "metadata": {},
   "outputs": [],
   "source": [
    "from typing import Annotated\n",
    "from typing_extensions import TypedDict\n",
    "\n",
    "from langgraph.graph.message import add_messages\n",
    "from langchain_core.messages import AnyMessage\n",
    "\n",
    "# AnyMessage: Agent가 출력하는 모든 메시지의 부모 클래스\n",
    "# SystemMessage: LLM(언어 모델) 기반의 대화형 응용프로그램(예: 챗봇)에서 대화의 맥락이나 규칙을 정해주는 특별한 메시지\n",
    "# HumanMessage: 사용자가 입력한 메시지\n",
    "# AgentMessage: Agent가 출력한 메시지\n",
    "\n",
    "class AgentState(TypedDict):\n",
    "    messages: list[Annotated[AnyMessage, add_messages]]\n"
   ]
  },
  {
   "cell_type": "code",
   "execution_count": 6,
   "metadata": {},
   "outputs": [],
   "source": [
    "from langgraph.graph import StateGraph\n",
    "\n",
    "# Node: Agent가 수행하는 작업\n",
    "# Edge: Node들의 관계\n",
    "\n",
    "graph_builder = StateGraph(AgentState)"
   ]
  },
  {
   "cell_type": "code",
   "execution_count": 7,
   "metadata": {},
   "outputs": [],
   "source": [
    "def generate(state: AgentState) -> AgentState:\n",
    "    messages = state['messages']\n",
    "    ai_message = llm.invoke(messages)\n",
    "    return {'messages': [ai_message]}"
   ]
  },
  {
   "cell_type": "code",
   "execution_count": 8,
   "metadata": {},
   "outputs": [
    {
     "data": {
      "text/plain": [
       "<langgraph.graph.state.StateGraph at 0x7fbdd436a210>"
      ]
     },
     "execution_count": 8,
     "metadata": {},
     "output_type": "execute_result"
    }
   ],
   "source": [
    "from langgraph.graph import START, END\n",
    "graph_builder.add_node('generate', generate)\n",
    "graph_builder.add_edge(START, 'generate')\n",
    "graph_builder.add_edge('generate', END)"
   ]
  },
  {
   "cell_type": "code",
   "execution_count": 9,
   "metadata": {},
   "outputs": [],
   "source": [
    "graph = graph_builder.compile()"
   ]
  },
  {
   "cell_type": "code",
   "execution_count": 10,
   "metadata": {},
   "outputs": [
    {
     "data": {
      "image/png": "[encoded data removed]",
      "text/plain": [
       "<IPython.core.display.Image object>"
      ]
     },
     "metadata": {},
     "output_type": "display_data"
    }
   ],
   "source": [
    "from IPython.display import display, Image\n",
    "\n",
    "# 내가 생성한 Agent의 State Graph를 시각화\n",
    "display(Image(graph.get_graph().draw_mermaid_png()))"
   ]
  },
  {
   "cell_type": "code",
   "execution_count": 11,
   "metadata": {},
   "outputs": [
    {
     "data": {
      "text/plain": [
       "{'messages': [AIMessage(content='인프런에는 다양한 주제와 분야에 걸쳐 많은 강의들이 제공되고 있습니다. 일반적으로 인프런에서 찾을 수 있는 강의 주제는 다음과 같습니다:\\n\\n1. **프로그래밍 및 개발**: Python, Java, JavaScript, C++, React, Node.js 등 다양한 프로그래밍 언어 및 개발 프레임워크 강의\\n2. **데이터 과학 및 분석**: 데이터 분석, 머신러닝, 인공지능, 빅데이터 등의 주제\\n3. **웹 개발**: HTML, CSS, 웹 디자인, 풀스택 개발 등에 관련된 강의\\n4. **모바일 개발**: Android, iOS 앱 개발 강의\\n5. **클라우드 컴퓨팅 및 DevOps**: AWS, Azure, Docker, Kubernetes 등\\n6. **디자인 및 멀티미디어**: Adobe Photoshop, Illustrator, UX/UI 디자인 강의\\n7. **비즈니스 및 마케팅**: 디지털 마케팅, SEO, 사업 관리 강의\\n8. **자기 계발**: 생산성, 시간 관리, 커리어 개발 등에 관한 강의\\n\\n이 외에도 다양한 분야에 대한 강의가 추가되고 있으며, 특정 강의의 최신 정보는 인프런 공식 웹사이트를 방문하여 확인할 수 있습니다.', additional_kwargs={'refusal': None}, response_metadata={'token_usage': {'completion_tokens': 280, 'prompt_tokens': 18, 'total_tokens': 298, 'completion_tokens_details': {'accepted_prediction_tokens': 0, 'audio_tokens': 0, 'reasoning_tokens': 0, 'rejected_prediction_tokens': 0}, 'prompt_tokens_details': {'audio_tokens': 0, 'cached_tokens': 0}}, 'model_name': 'gpt-4o-2024-08-06', 'system_fingerprint': 'fp_50cad350e4', 'finish_reason': 'stop', 'logprobs': None}, id='run-98972323-add1-4751-9591-b8bfa40960b2-0', usage_metadata={'input_tokens': 18, 'output_tokens': 280, 'total_tokens': 298, 'input_token_details': {'audio': 0, 'cache_read': 0}, 'output_token_details': {'audio': 0, 'reasoning': 0}})]}"
      ]
     },
     "execution_count": 11,
     "metadata": {},
     "output_type": "execute_result"
    }
   ],
   "source": [
    "from langchain_core.messages import HumanMessage\n",
    "\n",
    "initial_state = {'messages': [HumanMessage(query)]}\n",
    "graph.invoke(initial_state)"
   ]
  }
 ],
 "metadata": {
  "kernelspec": {
   "display_name": "3.11.2",
   "language": "python",
   "name": "python3"
  },
  "language_info": {
   "codemirror_mode": {
    "name": "ipython",
    "version": 3
   },
   "file_extension": ".py",
   "mimetype": "text/x-python",
   "name": "python",
   "nbconvert_exporter": "python",
   "pygments_lexer": "ipython3",
   "version": "3.11.2"
  }
 },
 "nbformat": 4,
 "nbformat_minor": 2
}
