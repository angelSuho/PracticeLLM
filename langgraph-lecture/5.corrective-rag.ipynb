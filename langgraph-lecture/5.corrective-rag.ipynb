{
 "cells": [
  {
   "cell_type": "code",
   "execution_count": 1,
   "metadata": {},
   "outputs": [
    {
     "data": {
      "text/plain": [
       "True"
      ]
     },
     "execution_count": 1,
     "metadata": {},
     "output_type": "execute_result"
    }
   ],
   "source": [
    "from dotenv import load_dotenv\n",
    "\n",
    "load_dotenv()"
   ]
  },
  {
   "cell_type": "code",
   "execution_count": 2,
   "metadata": {},
   "outputs": [],
   "source": [
    "from langchain_chroma import Chroma\n",
    "from langchain_openai import OpenAIEmbeddings\n",
    "\n",
    "embedding_function = OpenAIEmbeddings(model='text-embedding-3-large')\n",
    "\n",
    "vector_store = Chroma (\n",
    "    embedding_function=embedding_function,\n",
    "    collection_name='spring_framework_docs',\n",
    "    persist_directory='./spring_framework_docs'\n",
    ")\n",
    "retriever = vector_store.as_retriever(search_kwargs={'k': 3})"
   ]
  },
  {
   "cell_type": "code",
   "execution_count": 3,
   "metadata": {},
   "outputs": [],
   "source": [
    "from typing_extensions import List, TypedDict\n",
    "from langchain_core.documents import Document\n",
    "from langgraph.graph import StateGraph\n",
    "\n",
    "class AgentState(TypedDict):\n",
    "    query: str\n",
    "    context: list\n",
    "    answer: str\n",
    "\n",
    "graph_builder = StateGraph(AgentState)"
   ]
  },
  {
   "cell_type": "code",
   "execution_count": 4,
   "metadata": {},
   "outputs": [],
   "source": [
    "def retrieve(state: AgentState):\n",
    "    query = state['query']\n",
    "    docs = retriever.invoke(query)\n",
    "    return {'context': docs}"
   ]
  },
  {
   "cell_type": "code",
   "execution_count": 5,
   "metadata": {},
   "outputs": [],
   "source": [
    "from langchain_openai import ChatOpenAI\n",
    "\n",
    "llm = ChatOpenAI(model='gpt-4o')"
   ]
  },
  {
   "cell_type": "code",
   "execution_count": 6,
   "metadata": {},
   "outputs": [],
   "source": [
    "from langchain import hub\n",
    "from langchain_core.output_parsers import StrOutputParser\n",
    "\n",
    "generate_prompt = hub.pull(\"rlm/rag-prompt\")\n",
    "generate_llm = ChatOpenAI(model='gpt-4o', max_completion_tokens=100)\n",
    "\n",
    "def generate(state: AgentState):\n",
    "    context = state['context']\n",
    "    query = state['query']\n",
    "    rag_chain = generate_prompt | generate_llm # | StrOutputParser\n",
    "    response = rag_chain.invoke({'question': query, 'context': context})\n",
    "    return {'answer': response.content}"
   ]
  },
  {
   "cell_type": "code",
   "execution_count": 7,
   "metadata": {},
   "outputs": [],
   "source": [
    "from langchain import hub\n",
    "from typing import Literal\n",
    "doc_relevance_prompt = hub.pull(\"langchain-ai/rag-document-relevance\")\n",
    "\n",
    "def check_doc_relevance(state: AgentState) -> Literal['relevant', 'irrelevant']:\n",
    "    query = state['query']\n",
    "    context = state['context']\n",
    "    print(f'context = {context}')\n",
    "    doc_relevance_chain = doc_relevance_prompt | llm\n",
    "    response = doc_relevance_chain.invoke({'question': query, 'documents': context})\n",
    "    print(f'doc relevance response: {response}')\n",
    "    if response['Score'] == 1:\n",
    "        return 'relevant'\n",
    "    return 'irrelevant'"
   ]
  },
  {
   "cell_type": "code",
   "execution_count": null,
   "metadata": {},
   "outputs": [],
   "source": [
    "from langchain_core.prompts import PromptTemplate\n",
    "\n",
    "rewrite_prompt = PromptTemplate.from_template(\"\"\"\n",
    "사용자의 질문을 보고, 웹 검색에 용이하게 사용자의 질문을 수정해주세요.\n",
    "질문: {query}\n",
    "\"\"\")\n",
    "\n",
    "# 입력된 쿼리(query)를 변형(rewrite)하여 새로운 쿼리를 생성하는 것\n",
    "def rewrite(state: AgentState):\n",
    "    query = state['query']\n",
    "    rewrite_chain = rewrite_prompt | llm\n",
    "    response = rewrite_chain.invoke({'query': query})\n",
    "    print('rewrite question == {response}')\n",
    "    return {'query': response.content}"
   ]
  },
  {
   "cell_type": "code",
   "execution_count": null,
   "metadata": {},
   "outputs": [],
   "source": [
    "from langchain_community.tools import TavilySearchResults\n",
    "\n",
    "tavily_search_tool = TavilySearchResults(\n",
    "    max_results=3,\n",
    "    search_depth=\"advanced\",\n",
    "    include_answer=True,\n",
    "    include_raw_content=True,\n",
    "    include_images=True,\n",
    ")\n",
    "\n",
    "def web_search(state: AgentState):\n",
    "    query = state['query']\n",
    "    results = tavily_search_tool.invoke(query)\n",
    "    print('web search results == {results}')\n",
    "    return {'context': results}"
   ]
  },
  {
   "cell_type": "code",
   "execution_count": 10,
   "metadata": {},
   "outputs": [
    {
     "data": {
      "text/plain": [
       "<langgraph.graph.state.StateGraph at 0x7f24f1c2d510>"
      ]
     },
     "execution_count": 10,
     "metadata": {},
     "output_type": "execute_result"
    }
   ],
   "source": [
    "graph_builder.add_node('retrieve', retrieve)\n",
    "graph_builder.add_node('generate', generate)\n",
    "graph_builder.add_node('rewrite', rewrite)\n",
    "\n",
    "graph_builder.add_node('web_search', web_search)"
   ]
  },
  {
   "cell_type": "code",
   "execution_count": 11,
   "metadata": {},
   "outputs": [
    {
     "data": {
      "text/plain": [
       "<langgraph.graph.state.StateGraph at 0x7f24f1c2d510>"
      ]
     },
     "execution_count": 11,
     "metadata": {},
     "output_type": "execute_result"
    }
   ],
   "source": [
    "from langgraph.graph import START, END\n",
    "\n",
    "graph_builder.add_edge(START, 'retrieve')\n",
    "graph_builder.add_conditional_edges(\n",
    "    'retrieve',\n",
    "    check_doc_relevance, {\n",
    "        'relevant': 'generate',\n",
    "        'irrelevant': 'rewrite'\n",
    "    }\n",
    ")\n",
    "graph_builder.add_edge('rewrite', 'web_search')\n",
    "graph_builder.add_edge('web_search', 'generate')\n",
    "graph_builder.add_edge('generate', END)"
   ]
  },
  {
   "cell_type": "code",
   "execution_count": 12,
   "metadata": {},
   "outputs": [],
   "source": [
    "graph = graph_builder.compile()"
   ]
  },
  {
   "cell_type": "code",
   "execution_count": 13,
   "metadata": {},
   "outputs": [
    {
     "data": {
      "image/png": "[encoded data removed]",
      "text/plain": [
       "<IPython.core.display.Image object>"
      ]
     },
     "metadata": {},
     "output_type": "display_data"
    }
   ],
   "source": [
    "from IPython.display import Image, display\n",
    "\n",
    "display(Image(graph.get_graph().draw_mermaid_png()))"
   ]
  },
  {
   "cell_type": "code",
   "execution_count": 14,
   "metadata": {},
   "outputs": [
    {
     "name": "stdout",
     "output_type": "stream",
     "text": [
      "context = [Document(id='f9ac33c1-53ed-471c-a54c-0f782bddd224', metadata={'source': './documents/spring_framework_docs.txt'}, page_content='스프링 프레임워크 종합 안내서\\n본 문서는 스프링 프레임워크의 기본 개념, 아키텍처, 주요 기능 및 최신 동향을 포함하여 총 10 페이지에 걸쳐 상세하게 설명합니다.\\n서론\\n1. 개요\\n스프링 프레임워크는 자바 플랫폼을 위한 오픈 소스 애플리케이션 프레임워크로, 엔터프라이즈급 애플리케이션 개발을 위한 다양한 기능과 유연한 아키텍처를 제공합니다.\\n\\n역사: 2002년 로드 존슨(Rod Johnson)의 “Expert One-on-One J2EE Design and Development”를 시작으로 등장하였으며, 이후 경량 컨테이너와 객체 지향 프로그래밍 기법을 도입하여 급속히 확산되었습니다.\\n목적: 복잡한 엔터프라이즈 애플리케이션 개발 시 발생하는 결합도 문제를 해소하고, 모듈화 및 재사용성을 높여 개발 생산성을 극대화하는 데 있습니다.\\n\\n2. 스프링의 필요성\\n\\n유연성: 전통적인 J2EE 기반의 복잡한 설정과 구현을 단순화합니다.\\n모듈성: IoC/DI, AOP 등 모듈화를 통해 유저보수를 쉽게 합니다.\\n확장성: 다양한 서브 모듈(웹, 데이터베이스 접근, 보안 등)을 제공하여 복합적인 요구 사항을 충족합니다.\\n\\n참고: Soonggi Tistory\\n핵심 원칙 – IoC 와 DI\\n1. 제어의 역전(IoC, Inversion of Control)\\n\\n개념: 객체의 생성과 의존관계 설정을 개발자가 아닌 스프링 컨테이너가 관리하는 방식입니다.\\n장점: 결합도를 낮추어 코드의 재사용성과 테스트 용이성을 높입니다.\\n\\n2. 의존성 주입(DI, Dependency Injection)\\n\\n정의: 객체가 필요한 의존성을 스프링 컨테이너가 주입해 주는 방식입니다.\\n구현 방식: XML 설정, 애노테이션(@Autowired), 자바 기반 설정(@Configuration)을 통한 DI 제공.\\n예시: 서비스 객체가 DAO 를 직접 생성하지 않고, 외부에서 주입받아 사용함으로써 모듈 간의 의존성을 느슨하게 유지합니다.\\n\\n참고: Outstanding1301 블로그\\n관점 지향 프로그래밍(AOP)\\n\\n\\nAOP의 필요성\\n\\n\\n문제 해결: 로깅, 보안, 트랜잭션 관리와 같이 여러 모듈에 공통적으로 적용되는 기능을 핵심 비즈니스 로직과 분리하여 코드 중복을 줄입니다.\\n\\n\\nAOP의 주요 개념\\n\\n\\n어드바이스(Advice): 공통 기능을 구현하는 코드.\\n\\n포인트컷(Pointcut): 어드바이스가 적용될 지점을 정의.\\n\\n위빙(Weaving): 정의된 포인트컷에 따라 어드바이스를 적용하는 과정.\\n\\n\\n스프링에서의 AOP 활용\\n\\n\\n예시: 트랜잭션 관리, 메소드 실행 전후 로깅, 보안 검증 등을 AOP를 통해 쉽게 구현할 수 있습니다.\\n\\n\\n참고: Soonggi Tistory\\n스프링 모듈 구성\\n스프링 프레임워크는 여러 모듈로 구성되어 있어 필요에 따라 선택적으로 사용할 수 있습니다.\\n\\n\\n코어 컨테이너(Core Container)\\n\\n\\nBeans: 스프링 빈(객체) 관리.\\n\\nContext: 애플리케이션 컨텍스트 제공.\\n\\nCore: IoC와 DI의 기반 제공.'), Document(id='0295548b-e8fc-4310-b212-6db316d35499', metadata={'source': './documents/spring_framework_docs.txt'}, page_content='코어 컨테이너(Core Container)\\n\\n\\nBeans: 스프링 빈(객체) 관리.\\n\\nContext: 애플리케이션 컨텍스트 제공.\\n\\nCore: IoC와 DI의 기반 제공.\\n\\n\\n데이터 접근 및 통합(Data Access/Integration)\\n\\n\\nJDBC 템플릿: 데이터베이스 접근을 단순화.\\n\\n\\nORM 통합: Hibernate, JPA 와의 통합.\\n\\n\\n트랜잭션 관리: 선언적 및 프로그래밍적 트랜잭션 관리 지원.\\n\\n\\n웹(Web)\\n\\n\\nSpring MVC: 웹 애플리케이션의 모델-뷰-컨트롤러(MVC) 패턴 구현.\\n\\n\\nREST 지원: RESTful 웹 서비스 개발 지원.\\n\\n\\n기타 모듈\\n\\n\\nAOP: 앞서 설명한 관점 지향 프로그래밍 지원.\\n\\n메시징: 이벤트 기반 애플리케이션 개발 지원.\\n테스트: 단위 테스트와 통합 테스트 지원.\\n\\n참고: Velog\\n스프링 MVC 아키텍처\\n\\n개요\\n\\n스프링 MVC는 웹 애플리케이션 개발을 위한 프레임워크로, 클라이언트의 요청을 효과적으로 처리하기 위한 모델-뷰-컨트롤러 패턴을 따릅니다.\\n\\n\\n구성 요소\\n\\n\\nDispatcherServlet: 모든 요청을 중앙에서 받아서 처리하고, 해당 컨트롤러로 요청을 전달합니다.\\n\\nController: 비즈니스 로직을 처리하고, 모델 데이터를 생성하여 뷰에 전달합니다.\\nView Resolver: 컨트롤러에서 전달받은 모델 데이터를 기반으로 실제 뷰(JSP, Thymeleaf 등)를 렌더링합니다.\\n\\nHandler Mapping: 요청 URL을 적절한 컨트롤러에 매핑하는 역할을 합니다.\\n\\n\\n특징\\n\\n\\n유연성: 다양한 뷰 기술과의 통합이 용이합니다.\\n\\n확장성: 요청 처리 파이프라인을 커스터마이징할 수 있습니다.\\n\\n참고: OutStanding1301 블로그\\n데이터 접근 및 트랜잭션 관리\\n\\n\\n데이터 접근\\n\\n\\nJDBC 템플릿: 반복되는 JDBC 코드(커넥션, PreparedStatement 등)를 추상화하여 개발자가 비즈니스 로직에 집중할 수 있도록 도와줍니다.\\n\\n\\nORM 통합: 스프링은 Hibernate, JPA, MyBatis 등 다양한 ORM 프레임워크와 원활하게 통합됩니다.\\n\\n\\n트랜잭션 관리\\n\\n\\n선언적 트랜잭션 관리: 애노테이션(@Transactional)이나 XML 설정을 통해 트랜잭션 경계를 정의할 수 있습니다.\\n\\n프로그래밍적 트랜잭션 관리: 코드 내에서 직접 트랜잭션을 제어하는 방법도 제공합니다.\\n장점: 에러 발생 시 자동 롤백 및 트랜잭션 일관성 유지가 가능합니다.\\n\\n참고: Velog\\n확장 기능 및 보안\\n\\n\\n스프링 시큐리티(Spring Security)\\n\\n\\n기능: 인증, 인가, 암호화 등을 통해 애플리케이션 보안을 강화합니다.\\n\\n\\n특징: 필터 체인을 기반으로 하여 유연한 보안 설정을 지원합니다.\\n\\n\\n메세징 및 이벤트\\n\\n\\n메세징: JMS, RabbitMQ 등과의 통합을 통해 비동기 메세징을 지원합니다.\\n\\n\\n이벤트: 스프링의 이벤트 발행/구독 모델을 통해 애플리케이션 간의 느슨한 결합을 구현할 수 있습니다.\\n\\n\\n기타 확장 기능'), Document(id='74d4a601-e19c-4c70-b493-2fa406e6a210', metadata={'source': './documents/spring_framework_docs.txt'}, page_content='이벤트: 스프링의 이벤트 발행/구독 모델을 통해 애플리케이션 간의 느슨한 결합을 구현할 수 있습니다.\\n\\n\\n기타 확장 기능\\n\\n\\n캐싱: 스프링은 다양한 캐시 추상화 기능을 제공하여 애플리케이션 성능을 향상시킵니다.\\n\\n스케줄링: 정기적 작업 스케줄링을 위한 기능을 내장하고 있습니다.\\n\\n참고: OutStanding1301 블로그\\n스프링 부트와 마이크로서비스\\n\\n\\n스프링 부트(Spring Boot)\\n\\n\\n목적: 스프링 기반 애플리케이션의 초기 설정과 구성을 단순화하여, 개발자가 빠르게 시작할 수 있도록 지원합니다.\\n\\n특징:\\n자동 구성(Auto-Configuration): 환경에 맞는 기본 설정을 자동으로 적용합니다.\\n내장 서버: Tomcat, Jetty 등의 내장 서버를 사용해 별도의 서버 설정 없이 애플리케이션 실행이 가능합니다.\\n\\n스타터 패키지: 다양한 기능을 손쉽게 추가할 수 있도록 스타터 의존성을 제공합니다.\\n\\n\\n마이크로서비스 아키텍처\\n\\n\\n스프링 클라우드: 분산 환경에서의 마이크로서비스 구축을 위한 다양한 도구(서비스 등록, 구성 관리, API 게이트웨이 등)를 제공합니다.\\n\\n장점: 개별 서비스의 독립적 배포 및 확장이 가능하며, 대규모 시스템을 유연하게 관리할 수 있습니다.\\n\\n참고: Spring Boot 공식 문서\\n결론 및 향후 전망\\n\\n결론\\n\\n스프링 프레임워크는 자바 기반 애플리케이션 개발에 있어 유연성과 확장성을 극대화하는 강력한 도구입니다.\\n\\n주요 강점: IoC/DI, AOP를 통한 모듈화, 다양한 서브 모듈 제공\\n\\n활용 분야: 엔터프라이즈 애플리케이션, 웹 애플리케이션, 마이크로서비스 아키텍처 등\\n\\n\\n향후 전망\\n\\n\\n클라우드 네이티브: 스프링 부트와 스프링 클라우드를 통한 클라우드 환경 대응 강화\\n\\n개발 생산성: 지속적인 업데이트와 커뮤니티의 활발한 기여를 통해 개발 생산성이 향상될 전망\\n\\n보안 및 확장: 스프링 시큐리티, 캐싱 등 다양한 확장 기능이 앞으로도 발전할 것으로 예상됩니다.\\n\\n\\n참고 자료 및 추가 학습\\n\\n\\n공식 문서: Spring Framework Reference Documentation\\n\\n\\n온라인 강의: 다양한 온라인 플랫폼에서 제공하는 스프링 강좌\\n\\n\\n커뮤니티: GitHub, Stack Overflow, 블로그 및 포럼 등에서 최신 정보를 확인\\n\\n\\n\\n마무리\\n이 문서는 스프링 프레임워크의 전반적인 내용을 10페이지 분량으로 구성하였으며, 각 페이지마다 핵심 개념과 모듈, 그리고 최신 동향을 포함하여 정리하였습니다.\\n추가적인 세부 사항이나 최신 정보는 위의 참고 자료를 통해 지속적으로 업데이트 하실 수 있습니다.')]\n",
      "doc relevance response: {'Score': 0, 'Explanation': \"The facts provided are a comprehensive guide to the Spring Framework, covering its basic concepts, architecture, key features, and trends. However, they do not mention any specific communication protocols used in the Spring Framework. The content focuses on the framework's components like IoC, DI, AOP, MVC, data access, security, and Spring Boot, among others. There is no mention of communication protocols such as HTTP, REST, SOAP, or any other protocol. Thus, the facts are completely unrelated to the specific question about communication protocols in the Spring Framework.\"}\n"
     ]
    },
    {
     "data": {
      "text/plain": [
       "{'query': '스프링 프레임워크에서 사용되는 통신 규약 종류',\n",
       " 'context': [{'url': 'https://corner-ds.tistory.com/346',\n",
       "   'content': '스프링 프레임워크에서 제공하는 클래스인 (UriComponentsBuilder)는 여러 파라미터를 연결하여 URI 형식으로 만드는 기능을 수행하며, RestTemplate를 생성할 때 사용한다. 5. HTTPClient의 종류에 따라 기능에 차이가 있으며, 가장 큰 차이는 (커넥션 풀)이다.'},\n",
       "  {'url': 'https://scienceismagic.tistory.com/58',\n",
       "   'content': '스프링 프레임워크(Spring Framework) 개요스프링 프레임워크(Spring Framework)는 자바 기반의 애플리케이션 개발을 위한 포괄적인 프레임워크입니다. 이 프레임워크는 엔터프라이즈 애플리케이션 개발에 필요한 다양한 기능을 제공하며, 특히 객체 지향 프로그래밍(OOP)의 원칙을 따르는 경량 솔루션을 지원'},\n",
       "  {'url': 'https://intrepidgeeks.com/tutorial/advantages-disadvantages-and-characteristics-of-spring-frame',\n",
       "   'content': '스프링 프레임워크의 특징을 설명하고, 장점 및 단점을 포스팅합니다. ... 문제점들을 정리해서 상황에 따라 간편하게 적용해서 쓸 수 있는 것을 정리하여 특정한 \"규약\"을 통해 쉽게 쓸 수 있는 형태로 만든 것을 말한다. ... (90종류 이상) 제공 · 인터넷 통신'}],\n",
       " 'answer': '스프링 프레임워크에서 사용되는 주요 통신 규약은 HTTP입니다. RestTemplate와 같은 클래스는 주로 HTTP 프로토콜을 사용하여 통신합니다.'}"
      ]
     },
     "execution_count": 14,
     "metadata": {},
     "output_type": "execute_result"
    }
   ],
   "source": [
    "initial_state = {'query': '스프링 프레임워크에서 사용되는 통신규약은 무엇인가요?'}\n",
    "graph.invoke(initial_state)"
   ]
  },
  {
   "cell_type": "code",
   "execution_count": null,
   "metadata": {},
   "outputs": [],
   "source": []
  }
 ],
 "metadata": {
  "kernelspec": {
   "display_name": "3.11.2",
   "language": "python",
   "name": "python3"
  },
  "language_info": {
   "codemirror_mode": {
    "name": "ipython",
    "version": 3
   },
   "file_extension": ".py",
   "mimetype": "text/x-python",
   "name": "python",
   "nbconvert_exporter": "python",
   "pygments_lexer": "ipython3",
   "version": "3.11.2"
  }
 },
 "nbformat": 4,
 "nbformat_minor": 2
}
